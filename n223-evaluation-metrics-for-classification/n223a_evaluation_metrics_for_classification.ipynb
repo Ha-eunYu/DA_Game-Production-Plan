{
  "cells": [
    {
      "cell_type": "markdown",
      "metadata": {
        "id": "view-in-github",
        "colab_type": "text"
      },
      "source": [
        "<a href=\"https://colab.research.google.com/github/Ha-eunYu/Section_Project/blob/main/n223-evaluation-metrics-for-classification/n223a_evaluation_metrics_for_classification.ipynb\" target=\"_parent\"><img src=\"https://colab.research.google.com/assets/colab-badge.svg\" alt=\"Open In Colab\"/></a>"
      ]
    },
    {
      "cell_type": "markdown",
      "source": [
        "<img align=\"right\" src=\"https://ds-cs-images.s3.ap-northeast-2.amazonaws.com/Codestates_Fulllogo_Color.png\" width=100>\n",
        "\n",
        "## *AIB / SECTION 2 / SPRINT 2 / NOTE 3*\n",
        "\n",
        "# 📝 Assignment\n",
        "---"
      ],
      "metadata": {
        "id": "lQ45mNq1lXXB"
      }
    },
    {
      "cell_type": "markdown",
      "source": [
        "# Evaluation Metrics for Classification\n",
        "\n",
        "### 1) Kaggle 챌린지를 이어서 진행합니다.\n",
        "- **(Urclass Quiz) 다음 조건에서 F beta score를 구하고 제출하세요.**\n",
        "    - TP = 4442, TN = 6165, FP = 1515, FN = 1930, 재현율에 정밀도의 2배 가중치를 부여합니다."
      ],
      "metadata": {
        "id": "nCc3XZEyG3XV"
      }
    },
    {
      "cell_type": "code",
      "execution_count": 7,
      "source": [
        "### 이곳에서 과제를 진행해 주세요 ### \n",
        "tp=4442;tn=6165;fp=1515;fn=1930\n",
        "correct_predictions=tp+tn\n",
        "prd_positive=tp+fp\n",
        "real_positive=tp+fn"
      ],
      "outputs": [],
      "metadata": {
        "id": "nxuz6YvUlXYa"
      }
    },
    {
      "cell_type": "code",
      "source": [
        "precision=tp/prd_positive\n",
        "recall=tp/real_positive\n",
        "def f_score(precision, recall, beta = 1):\n",
        " return (1+beta**2)*((precision*recall)/((beta**2*precision)+recall))"
      ],
      "metadata": {
        "id": "I3nctUdisIq3"
      },
      "execution_count": 10,
      "outputs": []
    },
    {
      "cell_type": "code",
      "source": [
        "beta=2\n",
        "print('F beta Score(beta= 2.0):',f_score(precision,recall,beta))"
      ],
      "metadata": {
        "colab": {
          "base_uri": "https://localhost:8080/"
        },
        "id": "a8tR45SIrXlM",
        "outputId": "e3c2b1dc-9759-46b3-9b66-204198165a53"
      },
      "execution_count": 11,
      "outputs": [
        {
          "output_type": "stream",
          "name": "stdout",
          "text": [
            "F beta Score(beta= 2.0): 0.7063126093178564\n"
          ]
        }
      ]
    },
    {
      "cell_type": "markdown",
      "source": [
        "### 2) 모델을 학습한 후 Confusion matrix를 그리고 해석하세요\n",
        "- 임계값을 조정한 후 confusion matrix를 그려보세요\n",
        "- **(Urclass Quiz) 임계값을 증가시킬때 positive 범주의 재현율 변화 중 올바른 설명을 고르세요.**\n",
        "    1. 증가\n",
        "    2. 감소\n",
        "    3. 변화가 없다\n"
      ],
      "metadata": {
        "id": "wXQhkb4hlXYh"
      }
    },
    {
      "cell_type": "code",
      "execution_count": 12,
      "source": [
        "### 이곳에서 과제를 진행해 주세요 ### \n",
        "!pip install category_encoders\n",
        "!pip install pandas-profiling==3.1.0"
      ],
      "outputs": [
        {
          "output_type": "stream",
          "name": "stdout",
          "text": [
            "Looking in indexes: https://pypi.org/simple, https://us-python.pkg.dev/colab-wheels/public/simple/\n",
            "Collecting category_encoders\n",
            "  Downloading category_encoders-2.5.0-py2.py3-none-any.whl (69 kB)\n",
            "\u001b[K     |████████████████████████████████| 69 kB 3.6 MB/s \n",
            "\u001b[?25hRequirement already satisfied: scipy>=1.0.0 in /usr/local/lib/python3.7/dist-packages (from category_encoders) (1.5.4)\n",
            "Requirement already satisfied: numpy>=1.14.0 in /usr/local/lib/python3.7/dist-packages (from category_encoders) (1.21.6)\n",
            "Requirement already satisfied: statsmodels>=0.9.0 in /usr/local/lib/python3.7/dist-packages (from category_encoders) (0.10.2)\n",
            "Requirement already satisfied: patsy>=0.5.1 in /usr/local/lib/python3.7/dist-packages (from category_encoders) (0.5.2)\n",
            "Requirement already satisfied: pandas>=1.0.5 in /usr/local/lib/python3.7/dist-packages (from category_encoders) (1.3.5)\n",
            "Requirement already satisfied: scikit-learn>=0.20.0 in /usr/local/lib/python3.7/dist-packages (from category_encoders) (1.0.2)\n",
            "Requirement already satisfied: pytz>=2017.3 in /usr/local/lib/python3.7/dist-packages (from pandas>=1.0.5->category_encoders) (2022.1)\n",
            "Requirement already satisfied: python-dateutil>=2.7.3 in /usr/local/lib/python3.7/dist-packages (from pandas>=1.0.5->category_encoders) (2.8.2)\n",
            "Requirement already satisfied: six in /usr/local/lib/python3.7/dist-packages (from patsy>=0.5.1->category_encoders) (1.15.0)\n",
            "Requirement already satisfied: threadpoolctl>=2.0.0 in /usr/local/lib/python3.7/dist-packages (from scikit-learn>=0.20.0->category_encoders) (3.1.0)\n",
            "Requirement already satisfied: joblib>=0.11 in /usr/local/lib/python3.7/dist-packages (from scikit-learn>=0.20.0->category_encoders) (1.1.0)\n",
            "Installing collected packages: category-encoders\n",
            "Successfully installed category-encoders-2.5.0\n",
            "Looking in indexes: https://pypi.org/simple, https://us-python.pkg.dev/colab-wheels/public/simple/\n",
            "Collecting pandas-profiling==3.1.0\n",
            "  Downloading pandas_profiling-3.1.0-py2.py3-none-any.whl (261 kB)\n",
            "\u001b[K     |████████████████████████████████| 261 kB 27.9 MB/s \n",
            "\u001b[?25hCollecting PyYAML>=5.0.0\n",
            "  Downloading PyYAML-6.0-cp37-cp37m-manylinux_2_5_x86_64.manylinux1_x86_64.manylinux_2_12_x86_64.manylinux2010_x86_64.whl (596 kB)\n",
            "\u001b[K     |████████████████████████████████| 596 kB 45.2 MB/s \n",
            "\u001b[?25hCollecting joblib~=1.0.1\n",
            "  Downloading joblib-1.0.1-py3-none-any.whl (303 kB)\n",
            "\u001b[K     |████████████████████████████████| 303 kB 45.7 MB/s \n",
            "\u001b[?25hCollecting multimethod>=1.4\n",
            "  Downloading multimethod-1.8-py3-none-any.whl (9.8 kB)\n",
            "Collecting visions[type_image_path]==0.7.4\n",
            "  Downloading visions-0.7.4-py3-none-any.whl (102 kB)\n",
            "\u001b[K     |████████████████████████████████| 102 kB 11.8 MB/s \n",
            "\u001b[?25hRequirement already satisfied: matplotlib>=3.2.0 in /usr/local/lib/python3.7/dist-packages (from pandas-profiling==3.1.0) (3.2.2)\n",
            "Requirement already satisfied: markupsafe~=2.0.1 in /usr/local/lib/python3.7/dist-packages (from pandas-profiling==3.1.0) (2.0.1)\n",
            "Requirement already satisfied: numpy>=1.16.0 in /usr/local/lib/python3.7/dist-packages (from pandas-profiling==3.1.0) (1.21.6)\n",
            "Requirement already satisfied: scipy>=1.4.1 in /usr/local/lib/python3.7/dist-packages (from pandas-profiling==3.1.0) (1.5.4)\n",
            "Requirement already satisfied: missingno>=0.4.2 in /usr/local/lib/python3.7/dist-packages (from pandas-profiling==3.1.0) (0.5.1)\n",
            "Collecting phik>=0.11.1\n",
            "  Downloading phik-0.12.2-cp37-cp37m-manylinux_2_17_x86_64.manylinux2014_x86_64.whl (690 kB)\n",
            "\u001b[K     |████████████████████████████████| 690 kB 66.1 MB/s \n",
            "\u001b[?25hCollecting tangled-up-in-unicode==0.1.0\n",
            "  Downloading tangled_up_in_unicode-0.1.0-py3-none-any.whl (3.1 MB)\n",
            "\u001b[K     |████████████████████████████████| 3.1 MB 37.3 MB/s \n",
            "\u001b[?25hRequirement already satisfied: tqdm>=4.48.2 in /usr/local/lib/python3.7/dist-packages (from pandas-profiling==3.1.0) (4.64.0)\n",
            "Requirement already satisfied: pandas!=1.0.0,!=1.0.1,!=1.0.2,!=1.1.0,>=0.25.3 in /usr/local/lib/python3.7/dist-packages (from pandas-profiling==3.1.0) (1.3.5)\n",
            "Collecting htmlmin>=0.1.12\n",
            "  Downloading htmlmin-0.1.12.tar.gz (19 kB)\n",
            "Requirement already satisfied: seaborn>=0.10.1 in /usr/local/lib/python3.7/dist-packages (from pandas-profiling==3.1.0) (0.11.2)\n",
            "Requirement already satisfied: jinja2>=2.11.1 in /usr/local/lib/python3.7/dist-packages (from pandas-profiling==3.1.0) (2.11.3)\n",
            "Collecting requests>=2.24.0\n",
            "  Downloading requests-2.28.1-py3-none-any.whl (62 kB)\n",
            "\u001b[K     |████████████████████████████████| 62 kB 1.6 MB/s \n",
            "\u001b[?25hRequirement already satisfied: pydantic>=1.8.1 in /usr/local/lib/python3.7/dist-packages (from pandas-profiling==3.1.0) (1.8.2)\n",
            "Requirement already satisfied: networkx>=2.4 in /usr/local/lib/python3.7/dist-packages (from visions[type_image_path]==0.7.4->pandas-profiling==3.1.0) (2.6.3)\n",
            "Requirement already satisfied: attrs>=19.3.0 in /usr/local/lib/python3.7/dist-packages (from visions[type_image_path]==0.7.4->pandas-profiling==3.1.0) (21.4.0)\n",
            "Requirement already satisfied: Pillow in /usr/local/lib/python3.7/dist-packages (from visions[type_image_path]==0.7.4->pandas-profiling==3.1.0) (7.1.2)\n",
            "Collecting imagehash\n",
            "  Downloading ImageHash-4.2.1.tar.gz (812 kB)\n",
            "\u001b[K     |████████████████████████████████| 812 kB 57.5 MB/s \n",
            "\u001b[?25hRequirement already satisfied: kiwisolver>=1.0.1 in /usr/local/lib/python3.7/dist-packages (from matplotlib>=3.2.0->pandas-profiling==3.1.0) (1.4.3)\n",
            "Requirement already satisfied: python-dateutil>=2.1 in /usr/local/lib/python3.7/dist-packages (from matplotlib>=3.2.0->pandas-profiling==3.1.0) (2.8.2)\n",
            "Requirement already satisfied: pyparsing!=2.0.4,!=2.1.2,!=2.1.6,>=2.0.1 in /usr/local/lib/python3.7/dist-packages (from matplotlib>=3.2.0->pandas-profiling==3.1.0) (3.0.9)\n",
            "Requirement already satisfied: cycler>=0.10 in /usr/local/lib/python3.7/dist-packages (from matplotlib>=3.2.0->pandas-profiling==3.1.0) (0.11.0)\n",
            "Requirement already satisfied: typing-extensions in /usr/local/lib/python3.7/dist-packages (from kiwisolver>=1.0.1->matplotlib>=3.2.0->pandas-profiling==3.1.0) (4.1.1)\n",
            "Requirement already satisfied: pytz>=2017.3 in /usr/local/lib/python3.7/dist-packages (from pandas!=1.0.0,!=1.0.1,!=1.0.2,!=1.1.0,>=0.25.3->pandas-profiling==3.1.0) (2022.1)\n",
            "Requirement already satisfied: six>=1.5 in /usr/local/lib/python3.7/dist-packages (from python-dateutil>=2.1->matplotlib>=3.2.0->pandas-profiling==3.1.0) (1.15.0)\n",
            "Requirement already satisfied: certifi>=2017.4.17 in /usr/local/lib/python3.7/dist-packages (from requests>=2.24.0->pandas-profiling==3.1.0) (2022.6.15)\n",
            "Requirement already satisfied: charset-normalizer<3,>=2 in /usr/local/lib/python3.7/dist-packages (from requests>=2.24.0->pandas-profiling==3.1.0) (2.1.0)\n",
            "Requirement already satisfied: idna<4,>=2.5 in /usr/local/lib/python3.7/dist-packages (from requests>=2.24.0->pandas-profiling==3.1.0) (2.10)\n",
            "Requirement already satisfied: urllib3<1.27,>=1.21.1 in /usr/local/lib/python3.7/dist-packages (from requests>=2.24.0->pandas-profiling==3.1.0) (1.24.3)\n",
            "Requirement already satisfied: PyWavelets in /usr/local/lib/python3.7/dist-packages (from imagehash->visions[type_image_path]==0.7.4->pandas-profiling==3.1.0) (1.3.0)\n",
            "Building wheels for collected packages: htmlmin, imagehash\n",
            "  Building wheel for htmlmin (setup.py) ... \u001b[?25l\u001b[?25hdone\n",
            "  Created wheel for htmlmin: filename=htmlmin-0.1.12-py3-none-any.whl size=27098 sha256=dfec9dfeb3e70cf1201d1acc1740008647b7623656ef889c986977e8360bb00b\n",
            "  Stored in directory: /root/.cache/pip/wheels/70/e1/52/5b14d250ba868768823940c3229e9950d201a26d0bd3ee8655\n",
            "  Building wheel for imagehash (setup.py) ... \u001b[?25l\u001b[?25hdone\n",
            "  Created wheel for imagehash: filename=ImageHash-4.2.1-py2.py3-none-any.whl size=295206 sha256=1d4df2735177ef42270c1d1ecc80b9caad17c3efc74c0c3e700a752285987fb6\n",
            "  Stored in directory: /root/.cache/pip/wheels/4c/d5/59/5e3e297533ddb09407769762985d134135064c6831e29a914e\n",
            "Successfully built htmlmin imagehash\n",
            "Installing collected packages: tangled-up-in-unicode, multimethod, visions, joblib, imagehash, requests, PyYAML, phik, htmlmin, pandas-profiling\n",
            "  Attempting uninstall: joblib\n",
            "    Found existing installation: joblib 1.1.0\n",
            "    Uninstalling joblib-1.1.0:\n",
            "      Successfully uninstalled joblib-1.1.0\n",
            "  Attempting uninstall: requests\n",
            "    Found existing installation: requests 2.23.0\n",
            "    Uninstalling requests-2.23.0:\n",
            "      Successfully uninstalled requests-2.23.0\n",
            "  Attempting uninstall: PyYAML\n",
            "    Found existing installation: PyYAML 3.13\n",
            "    Uninstalling PyYAML-3.13:\n",
            "      Successfully uninstalled PyYAML-3.13\n",
            "  Attempting uninstall: pandas-profiling\n",
            "    Found existing installation: pandas-profiling 1.4.1\n",
            "    Uninstalling pandas-profiling-1.4.1:\n",
            "      Successfully uninstalled pandas-profiling-1.4.1\n",
            "\u001b[31mERROR: pip's dependency resolver does not currently take into account all the packages that are installed. This behaviour is the source of the following dependency conflicts.\n",
            "google-colab 1.0.0 requires requests~=2.23.0, but you have requests 2.28.1 which is incompatible.\n",
            "datascience 0.10.6 requires folium==0.2.1, but you have folium 0.8.3 which is incompatible.\u001b[0m\n",
            "Successfully installed PyYAML-6.0 htmlmin-0.1.12 imagehash-4.2.1 joblib-1.0.1 multimethod-1.8 pandas-profiling-3.1.0 phik-0.12.2 requests-2.28.1 tangled-up-in-unicode-0.1.0 visions-0.7.4\n"
          ]
        },
        {
          "output_type": "display_data",
          "data": {
            "application/vnd.colab-display-data+json": {
              "pip_warning": {
                "packages": [
                  "requests"
                ]
              }
            }
          },
          "metadata": {}
        }
      ],
      "metadata": {
        "id": "nrNsDeRIlXYk",
        "colab": {
          "base_uri": "https://localhost:8080/",
          "height": 1000
        },
        "outputId": "f038cae7-e817-4c0c-e6a9-a341dc9690a8"
      }
    },
    {
      "cell_type": "code",
      "source": [
        "from google.colab import files\n",
        "uploaded = files.upload()"
      ],
      "metadata": {
        "colab": {
          "resources": {
            "http://localhost:8080/nbextensions/google.colab/files.js": {
              "data": "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",
              "ok": true,
              "headers": [
                [
                  "content-type",
                  "application/javascript"
                ]
              ],
              "status": 200,
              "status_text": ""
            }
          },
          "base_uri": "https://localhost:8080/",
          "height": 148
        },
        "id": "hhN37XDcsdXJ",
        "outputId": "23a80ee8-5307-402b-a3a2-76ec784724a0"
      },
      "execution_count": 13,
      "outputs": [
        {
          "output_type": "display_data",
          "data": {
            "text/plain": [
              "<IPython.core.display.HTML object>"
            ],
            "text/html": [
              "\n",
              "     <input type=\"file\" id=\"files-22d6038b-be66-4760-93db-f130b4a3efed\" name=\"files[]\" multiple disabled\n",
              "        style=\"border:none\" />\n",
              "     <output id=\"result-22d6038b-be66-4760-93db-f130b4a3efed\">\n",
              "      Upload widget is only available when the cell has been executed in the\n",
              "      current browser session. Please rerun this cell to enable.\n",
              "      </output>\n",
              "      <script src=\"/nbextensions/google.colab/files.js\"></script> "
            ]
          },
          "metadata": {}
        },
        {
          "output_type": "stream",
          "name": "stdout",
          "text": [
            "Saving test.csv to test.csv\n",
            "Saving train.csv to train.csv\n",
            "Saving train_labels.csv to train_labels.csv\n"
          ]
        }
      ]
    },
    {
      "cell_type": "code",
      "source": [
        "import pandas as pd\n",
        "import numpy as np\n",
        "from sklearn.model_selection import train_test_split"
      ],
      "metadata": {
        "id": "JY-kQL0ztxtB"
      },
      "execution_count": 15,
      "outputs": []
    },
    {
      "cell_type": "code",
      "source": [
        "target = 'vacc_h1n1_f'\n",
        "# target = 'vacc_seas_f'\n",
        "train = pd.merge(pd.read_csv('https://ds-lecture-data.s3.ap-northeast-2.amazonaws.com/vacc_flu/train.csv'), \n",
        "                 pd.read_csv('https://ds-lecture-data.s3.ap-northeast-2.amazonaws.com/vacc_flu/train_labels.csv')[target], left_index=True, right_index=True)\n",
        "test = pd.read_csv('https://ds-lecture-data.s3.ap-northeast-2.amazonaws.com/vacc_flu/test.csv')\n",
        "sample_submission = pd.read_csv('https://ds-lecture-data.s3.ap-northeast-2.amazonaws.com/vacc_flu/submission.csv')"
      ],
      "metadata": {
        "id": "szgwMUnNtrwe"
      },
      "execution_count": 165,
      "outputs": []
    },
    {
      "cell_type": "code",
      "source": [
        "train, val = train_test_split(train, train_size=0.80, test_size=0.20, \n",
        "                              stratify=train[target], random_state=2)"
      ],
      "metadata": {
        "id": "6SLdEEnyt3v4"
      },
      "execution_count": 166,
      "outputs": []
    },
    {
      "cell_type": "code",
      "source": [
        "def engineer(df):\n",
        "    \"\"\"특성을 엔지니어링 하는 함수입니다.\"\"\"\n",
        "    \n",
        "    # 높은 카디널리티를 가지는 특성을 제거합니다.\n",
        "    selected_cols = df.select_dtypes(include=['number', 'object'])\n",
        "    labels = selected_cols.nunique() # 특성별 카디널리티 리스트\n",
        "    selected_features = labels[labels <= 30].index.tolist() # 카디널리티가 30보다 작은 특성만 선택합니다.\n",
        "    df = df[selected_features]\n",
        "    \n",
        "    # 새로운 특성을 생성합니다. behavioral 행동특정 합치기~~\n",
        "    behaviorals = [col for col in df.columns if 'behavioral' in col] \n",
        "    df['behaviorals'] = df[behaviorals].sum(axis=1)\n",
        "    \n",
        "    # 고용, 계절성 독감 삭제\n",
        "    dels = [col for col in df.columns if ('employment' in col or 'seas' in col)]\n",
        "    # dels = [col for col in df.columns if ('employment' in col or 'seas' in col or 'behavioral_' in col)]\n",
        "    df.drop(columns=dels, inplace=True)\n",
        "        \n",
        "    return df\n",
        "\n",
        "train = engineer(train)\n",
        "val = engineer(val)\n",
        "test = engineer(test)"
      ],
      "metadata": {
        "id": "t6NA-PbSt7rS"
      },
      "execution_count": 167,
      "outputs": []
    },
    {
      "cell_type": "code",
      "source": [
        "# 데이터에서 타겟과 특성을 분리\n",
        "features = train.drop(columns=[target]).columns\n",
        "# 훈련/검증/테스트 데이터를 특성과 타겟으로 분리\n",
        "X_train = train[features]\n",
        "y_train = train[target]\n",
        "X_val = val[features]\n",
        "y_val = val[target]\n",
        "X_test = test[features]"
      ],
      "metadata": {
        "id": "mdnOGuZmuWnc"
      },
      "execution_count": 168,
      "outputs": []
    },
    {
      "cell_type": "code",
      "source": [
        "from category_encoders import OneHotEncoder\n",
        "from sklearn.ensemble import RandomForestClassifier\n",
        "from sklearn.impute import SimpleImputer \n",
        "from sklearn.pipeline import make_pipeline, Pipeline\n",
        "from category_encoders import OrdinalEncoder\n",
        "from sklearn.metrics import classification_report\n",
        "from sklearn.metrics import accuracy_score"
      ],
      "metadata": {
        "colab": {
          "base_uri": "https://localhost:8080/"
        },
        "id": "cwV0JOE0uXXd",
        "outputId": "10e986b2-8a11-4fe2-acbb-335bf9526770"
      },
      "execution_count": 25,
      "outputs": [
        {
          "output_type": "stream",
          "name": "stderr",
          "text": [
            "/usr/local/lib/python3.7/dist-packages/statsmodels/tools/_testing.py:19: FutureWarning: pandas.util.testing is deprecated. Use the functions in the public API at pandas.testing instead.\n",
            "  import pandas.util.testing as tm\n"
          ]
        }
      ]
    },
    {
      "cell_type": "code",
      "source": [
        "# ordinal encoding\n",
        "pipe = make_pipeline(\n",
        "    OrdinalEncoder(), \n",
        "    SimpleImputer(), \n",
        "    RandomForestClassifier(random_state=10, n_jobs=-1, oob_score=True)\n",
        ")\n",
        "# RandomForestClassifier(n_jobs=-1, random_state=10, max_depth=None, oob_score=True, n_estimators=100)\n",
        "\n",
        "pipe.fit(X_train, y_train)\n",
        "print('검증 정확도', pipe.score(X_val, y_val))\n",
        "y_pred = pipe.predict(X_val)\n",
        "print(classification_report(y_val, y_pred))"
      ],
      "metadata": {
        "colab": {
          "base_uri": "https://localhost:8080/"
        },
        "id": "ZvP610dku4Np",
        "outputId": "838d560b-562d-4a93-c92d-f497f714c525"
      },
      "execution_count": 169,
      "outputs": [
        {
          "output_type": "stream",
          "name": "stdout",
          "text": [
            "검증 정확도 0.8239829201755426\n",
            "              precision    recall  f1-score   support\n",
            "\n",
            "           0       0.85      0.94      0.89      6416\n",
            "           1       0.70      0.46      0.55      2015\n",
            "\n",
            "    accuracy                           0.82      8431\n",
            "   macro avg       0.77      0.70      0.72      8431\n",
            "weighted avg       0.81      0.82      0.81      8431\n",
            "\n"
          ]
        }
      ]
    },
    {
      "cell_type": "code",
      "source": [
        "# confusion_matrix\n",
        "from sklearn.metrics import plot_confusion_matrix\n",
        "import matplotlib.pyplot as plt\n",
        "# vacc_h1n1_f - 응답자가 H1N1 독감 백신을 받았는지 여부\n",
        "fig, ax = plt.subplots()\n",
        "pcm = plot_confusion_matrix(pipe, X_val, y_val,\n",
        "                            cmap=plt.cm.Blues,\n",
        "                            ax=ax)\n",
        "plt.title(f'Confusion matrix, n = {len(y_val)}', fontsize=15)\n",
        "plt.show()"
      ],
      "metadata": {
        "colab": {
          "base_uri": "https://localhost:8080/",
          "height": 354
        },
        "id": "ZD3kJgqZEBcD",
        "outputId": "60e0610c-39e3-40d7-b717-560cae9cd1d5"
      },
      "execution_count": 42,
      "outputs": [
        {
          "output_type": "stream",
          "name": "stderr",
          "text": [
            "/usr/local/lib/python3.7/dist-packages/sklearn/utils/deprecation.py:87: FutureWarning: Function plot_confusion_matrix is deprecated; Function `plot_confusion_matrix` is deprecated in 1.0 and will be removed in 1.2. Use one of the class methods: ConfusionMatrixDisplay.from_predictions or ConfusionMatrixDisplay.from_estimator.\n",
            "  warnings.warn(msg, category=FutureWarning)\n"
          ]
        },
        {
          "output_type": "display_data",
          "data": {
            "text/plain": [
              "<Figure size 432x288 with 2 Axes>"
            ],
            "image/png": "[encoded data removed]"
          },
          "metadata": {
            "needs_background": "light"
          }
        }
      ]
    },
    {
      "cell_type": "code",
      "source": [
        "# predict_proba 함수는 각 샘플에 대해 어느 클래스에 속할 확률을 0에서 1 사이의 값으로 돌려준다.\n",
        "# predict 함수는 새로운 속성들을 넣었을 때 그 클래스에 속하는지 속하지 않는지를 나타내는 1 또는 0으로 구성된 벡터를 반환\n",
        "# predict 함수를 사용해 클래스의 레이블(정답에 해당하는 부분, 즉 매수 또는 매도)을 예측한다.\n",
        "\n",
        "import seaborn as sns\n",
        "\n",
        "threshold = 0.5\n",
        "y_pred_proba = pipe.predict_proba(X_val)[:, 1]\n",
        "y_pred = y_pred_proba > threshold\n",
        "\n",
        "ax = sns.histplot(y_pred_proba)\n",
        "ax.axvline(threshold, color='red')\n",
        "\n",
        "pd.Series(y_pred).value_counts()"
      ],
      "metadata": {
        "colab": {
          "base_uri": "https://localhost:8080/",
          "height": 320
        },
        "id": "L29V7pFoK2rU",
        "outputId": "ff0f8134-953a-4541-bb2f-88db088b1b56"
      },
      "execution_count": 34,
      "outputs": [
        {
          "output_type": "execute_result",
          "data": {
            "text/plain": [
              "False    7134\n",
              "True     1297\n",
              "dtype: int64"
            ]
          },
          "metadata": {},
          "execution_count": 34
        },
        {
          "output_type": "display_data",
          "data": {
            "text/plain": [
              "<Figure size 432x288 with 1 Axes>"
            ],
            "image/png": "[encoded data removed]"
          },
          "metadata": {
            "needs_background": "light"
          }
        }
      ]
    },
    {
      "cell_type": "code",
      "source": [
        "from ipywidgets import interact, fixed\n",
        "import matplotlib.pyplot as plt\n",
        "\n",
        "def explore_threshold(y_true, y_pred_proba, threshold=0.5):\n",
        "    y_pred = y_pred_proba >= threshold\n",
        "    vc = pd.Series(y_pred).value_counts()\n",
        "    ax = sns.histplot(y_pred_proba, kde=True)\n",
        "    ax.axvline(threshold, color='red')\n",
        "    ax.set_title(f'# of target, 1={vc[1]}, 0={vc[0]}')\n",
        "    plt.show()\n",
        "    print(classification_report(y_true, y_pred))\n",
        "\n",
        "interact(explore_threshold, \n",
        "    y_true=fixed(y_val), \n",
        "    y_pred_proba=fixed(y_pred_proba), \n",
        "    threshold=(0, 1, 0.01))"
      ],
      "metadata": {
        "colab": {
          "base_uri": "https://localhost:8080/",
          "height": 497,
          "referenced_widgets": [
            "2cce7ddde60f4f1090c48ab00acc6acf",
            "928b186fb10f44e487b50335398cd2e7",
            "284258cd9d654dd29477a29ac6c4c587",
            "cb132195401842e3b1d23fae4d616a55",
            "d1309c3ab3f742c1a8cea8f55ec331d8",
            "b54269938e3044fcb53b88c9a58a5199",
            "d23e3f5b75c54490a0dafded074b0ee9"
          ]
        },
        "id": "0jkFtP12KKJZ",
        "outputId": "a37b2d45-0ac2-4075-f064-6c88c3e2438d"
      },
      "execution_count": 36,
      "outputs": [
        {
          "output_type": "display_data",
          "data": {
            "text/plain": [
              "interactive(children=(FloatSlider(value=0.5, description='threshold', max=1.0, step=0.01), Output()), _dom_cla…"
            ],
            "application/vnd.jupyter.widget-view+json": {
              "version_major": 2,
              "version_minor": 0,
              "model_id": "2cce7ddde60f4f1090c48ab00acc6acf"
            }
          },
          "metadata": {}
        },
        {
          "output_type": "execute_result",
          "data": {
            "text/plain": [
              "<function __main__.explore_threshold>"
            ]
          },
          "metadata": {},
          "execution_count": 36
        }
      ]
    },
    {
      "cell_type": "markdown",
      "source": [
        "### 3) 랜덤포레스트의 n_estimator를 1, 10, 100, 1000으로 바꾸어 가며 positive 범주의 predict_proba를 비교해 보세요\n",
        "- 하이퍼파라미터는 다음과 같이 설정합니다.\n",
        "    - n_jobs=-1, random_state=10, max_depth=None, oob_score=True\n",
        "- **(Urclass Quiz) 확률값들의 분포의 변화를 아래 보기 중에서 고르세요**\n",
        "    1. 다양해진다\n",
        "    2. 변화가없다\n"
      ],
      "metadata": {
        "id": "CHH5LVGHlXYn"
      }
    },
    {
      "cell_type": "code",
      "execution_count": 82,
      "source": [
        "### 이곳에서 과제를 진행해 주세요 ###\n",
        "def mkpipe(i,threshold,X_train, y_train, X_val):\n",
        "  xx=10  ** i\n",
        "  pipe = make_pipeline(\n",
        "    OrdinalEncoder(), \n",
        "    SimpleImputer(), \n",
        "    RandomForestClassifier(n_estimators=xx, random_state=10, n_jobs=-1,max_depth=None, oob_score=True))\n",
        "  pipe.fit(X_train, y_train)\n",
        "  y_pred_proba = pipe.predict_proba(X_val)[:, 1]\n",
        "  y_pred = y_pred_proba > threshold\n",
        "  ax = sns.histplot(y_pred_proba)\n",
        "  ax.axvline(threshold, color='red')\n",
        "  return accuracy_score(y_val, y_pred)"
      ],
      "outputs": [],
      "metadata": {
        "id": "U7vuwyHtlXYo"
      }
    },
    {
      "cell_type": "code",
      "source": [
        "# n_estimators\t- 결정트리의 갯수를 지정 - Default = 10 - 무작정 트리 갯수를 늘리면 성능 좋아지는 것 대비 시간이 걸릴 수 있음\n",
        "# 1, 10, 100, 1000 > 10^(0, 1, 2, 3)\n",
        "\n",
        "mkpipe(3,threshold,X_train, y_train, X_val)"
      ],
      "metadata": {
        "colab": {
          "base_uri": "https://localhost:8080/",
          "height": 283
        },
        "id": "BcWdNYgpQ9LT",
        "outputId": "73404996-56fc-47ab-8d39-c4bdb2afd77c"
      },
      "execution_count": 85,
      "outputs": [
        {
          "output_type": "execute_result",
          "data": {
            "text/plain": [
              "0.8244573597438026"
            ]
          },
          "metadata": {},
          "execution_count": 85
        },
        {
          "output_type": "display_data",
          "data": {
            "text/plain": [
              "<Figure size 432x288 with 1 Axes>"
            ],
            "image/png": "[encoded data removed]"
          },
          "metadata": {
            "needs_background": "light"
          }
        }
      ]
    },
    {
      "cell_type": "markdown",
      "source": [
        "### 4) 두개 이상의 다른 분류 모델을 학습시켜 ROC curve, AUC 점수를 비교하고 설명합니다.\n",
        "- 더 좋은 결과가 나오는 모델을 사용해서 캐글에 제출하세요\n",
        "- **(Urclass Quiz) 캐글 Leaderboard의 본인 Score를 제출하세요.**"
      ],
      "metadata": {
        "id": "zdYe1hgGlXYs"
      }
    },
    {
      "cell_type": "code",
      "execution_count": null,
      "source": [
        "### 이곳에서 과제를 진행해 주세요 ### "
      ],
      "outputs": [],
      "metadata": {
        "id": "rsI2ZQsklXYv"
      }
    },
    {
      "cell_type": "markdown",
      "source": [
        "* 재현율: True Posirive Rate, TPR \n",
        " - 실제 Positive인 것 중 올바르게 Positive를 맞춘 비율\n",
        "* 위양성률: False Positive Rate, FPR\n",
        " - 실제 Negative인 것중 Positive로 잘못 맞춘 비율\n",
        "* Threshold\n",
        " - TPR를 높이고자 Positive로 판단하는 임계값을 계속 낮추어 모두 Positive로 판단하게 만듬\n",
        "  - 하지만 동시에 Negative이지만 Positive로 판단하는 위양성률도 같이 높아짐\n",
        "\n",
        "**재현율은 최대화 하고 위양성률은 최소화 하는 임계값이 최적의 임계값**"
      ],
      "metadata": {
        "id": "4UiM4z9vSsmh"
      }
    },
    {
      "cell_type": "code",
      "source": [
        "from sklearn.metrics import classification_report, confusion_matrix,accuracy_score, precision_score,recall_score,f1_score\n",
        "from sklearn.metrics import precision_recall_curve \n",
        "from sklearn.metrics import roc_auc_score,roc_curve"
      ],
      "metadata": {
        "id": "H4vKKViPfi6D"
      },
      "execution_count": 60,
      "outputs": []
    },
    {
      "cell_type": "code",
      "source": [
        "pipe = make_pipeline(\n",
        "    OrdinalEncoder(), \n",
        "    SimpleImputer(), \n",
        "    RandomForestClassifier(n_jobs=-1, random_state=20, max_depth=10, oob_score=True, n_estimators=100)\n",
        ")\n",
        "\n",
        "pipe.fit(X_train, y_train)\n",
        "# print('검증 정확도', pipe.score(X_val, y_val))\n",
        "# y_pred = pipe.predict(X_val)\n",
        "# print(classification_report(y_val, y_pred))\n",
        "\n",
        "y_pred_proba = pipe.predict_proba(X_val)[:, 1]\n",
        "y_pred = y_pred_proba > threshold\n",
        "\n",
        "ax = sns.histplot(y_pred_proba)\n",
        "ax.axvline(threshold, color='red')\n",
        "\n",
        "pd.Series(y_pred).value_counts()"
      ],
      "metadata": {
        "colab": {
          "base_uri": "https://localhost:8080/",
          "height": 320
        },
        "id": "BB5-s_hmS1Pu",
        "outputId": "d6e46b57-f80d-4e9f-972a-ccba45cf9ea0"
      },
      "execution_count": 135,
      "outputs": [
        {
          "output_type": "execute_result",
          "data": {
            "text/plain": [
              "False    7352\n",
              "True     1079\n",
              "dtype: int64"
            ]
          },
          "metadata": {},
          "execution_count": 135
        },
        {
          "output_type": "display_data",
          "data": {
            "text/plain": [
              "<Figure size 432x288 with 1 Axes>"
            ],
            "image/png": "[encoded data removed]"
          },
          "metadata": {
            "needs_background": "light"
          }
        }
      ]
    },
    {
      "cell_type": "code",
      "source": [
        "fpr, tpr, thresholds = roc_curve(y_val, y_pred_proba)\n",
        "plt.scatter(fpr, tpr)\n",
        "plt.title('ROC curve')\n",
        "plt.xlabel('FPR(Fall-out)')\n",
        "plt.ylabel('TPR(Recall)');\n",
        "\n",
        "from sklearn.metrics import roc_auc_score\n",
        "auc_score = roc_auc_score(y_val, y_pred_proba)\n",
        "auc_score"
      ],
      "metadata": {
        "colab": {
          "base_uri": "https://localhost:8080/",
          "height": 313
        },
        "id": "o2fKKIpIWoHQ",
        "outputId": "c0ae87a9-76d4-45a5-c80f-ad980625da74"
      },
      "execution_count": 136,
      "outputs": [
        {
          "output_type": "execute_result",
          "data": {
            "text/plain": [
              "0.8396087943911931"
            ]
          },
          "metadata": {},
          "execution_count": 136
        },
        {
          "output_type": "display_data",
          "data": {
            "text/plain": [
              "<Figure size 432x288 with 1 Axes>"
            ],
            "image/png": "[encoded data removed]"
          },
          "metadata": {
            "needs_background": "light"
          }
        }
      ]
    },
    {
      "cell_type": "code",
      "source": [
        "pipe = make_pipeline(\n",
        "    OrdinalEncoder(), \n",
        "    SimpleImputer(), \n",
        "    RandomForestClassifier(n_jobs=-1, random_state=20, max_depth=10, oob_score=True, n_estimators=1000)\n",
        ")\n",
        "\n",
        "pipe.fit(X_train, y_train)\n",
        "# print('검증 정확도', pipe.score(X_val, y_val))\n",
        "# y_pred = pipe.predict(X_val)\n",
        "# print(classification_report(y_val, y_pred))\n",
        "\n",
        "y_pred_proba = pipe.predict_proba(X_val)[:, 1]\n",
        "y_pred = y_pred_proba > threshold\n",
        "\n",
        "ax = sns.histplot(y_pred_proba)\n",
        "ax.axvline(threshold, color='red')\n",
        "\n",
        "pd.Series(y_pred).value_counts()\n"
      ],
      "metadata": {
        "colab": {
          "base_uri": "https://localhost:8080/",
          "height": 320
        },
        "id": "R5Wz_rwySuAu",
        "outputId": "95d8ee3b-b32f-4119-fc22-b5057c77ecf7"
      },
      "execution_count": 159,
      "outputs": [
        {
          "output_type": "execute_result",
          "data": {
            "text/plain": [
              "False    7367\n",
              "True     1064\n",
              "dtype: int64"
            ]
          },
          "metadata": {},
          "execution_count": 159
        },
        {
          "output_type": "display_data",
          "data": {
            "text/plain": [
              "<Figure size 432x288 with 1 Axes>"
            ],
            "image/png": "[encoded data removed]"
          },
          "metadata": {
            "needs_background": "light"
          }
        }
      ]
    },
    {
      "cell_type": "code",
      "source": [
        "fpr, tpr, thresholds = roc_curve(y_val, y_pred_proba)\n",
        "plt.scatter(fpr, tpr)\n",
        "plt.title('ROC curve')\n",
        "plt.xlabel('FPR(Fall-out)')\n",
        "plt.ylabel('TPR(Recall)');\n",
        "\n",
        "from sklearn.metrics import roc_auc_score\n",
        "auc_score = roc_auc_score(y_val, y_pred_proba)\n",
        "auc_score"
      ],
      "metadata": {
        "colab": {
          "base_uri": "https://localhost:8080/",
          "height": 313
        },
        "id": "C38lMiA4V1QN",
        "outputId": "de414669-2490-4017-a59a-09650f5eb401"
      },
      "execution_count": 160,
      "outputs": [
        {
          "output_type": "execute_result",
          "data": {
            "text/plain": [
              "0.8411515411223801"
            ]
          },
          "metadata": {},
          "execution_count": 160
        },
        {
          "output_type": "display_data",
          "data": {
            "text/plain": [
              "<Figure size 432x288 with 1 Axes>"
            ],
            "image/png": "[encoded data removed]"
          },
          "metadata": {
            "needs_background": "light"
          }
        }
      ]
    },
    {
      "cell_type": "code",
      "source": [
        "optimal_idx = np.argmax(tpr - fpr)\n",
        "optimal_threshold = thresholds[optimal_idx]\n",
        "\n",
        "print('idx:', optimal_idx, ', threshold:', optimal_threshold)"
      ],
      "metadata": {
        "colab": {
          "base_uri": "https://localhost:8080/"
        },
        "id": "_z4eM-RyeUkX",
        "outputId": "d39457c6-875b-4111-a398-44b932dfa1a3"
      },
      "execution_count": 161,
      "outputs": [
        {
          "output_type": "stream",
          "name": "stdout",
          "text": [
            "idx: 1263 , threshold: 0.2608565768508462\n"
          ]
        }
      ]
    },
    {
      "cell_type": "code",
      "source": [
        "y_pred_optimal = (y_pred_proba >= optimal_threshold).astype('int')\n",
        "\n",
        "accuracy_score(y_val, y_pred_optimal)"
      ],
      "metadata": {
        "colab": {
          "base_uri": "https://localhost:8080/"
        },
        "id": "lwE-DOscefqK",
        "outputId": "d6c39b44-09f9-4a23-d7bb-e5bc37778ecd"
      },
      "execution_count": 163,
      "outputs": [
        {
          "output_type": "execute_result",
          "data": {
            "text/plain": [
              "0.7666943423081485"
            ]
          },
          "metadata": {},
          "execution_count": 163
        }
      ]
    },
    {
      "cell_type": "code",
      "source": [
        "pred_proba = pipe.predict_proba(X_test)[:, 1]\n",
        "pred = (pred_proba >= optimal_threshold).astype('int')\n",
        "# submission data와 같은 형태를 만들어 주기 위해 데이터프레임으로 만듬\n",
        "df_finall = pd.DataFrame(pred, columns=['vacc_h1n1_f'])\n",
        "df_finall.shape"
      ],
      "metadata": {
        "colab": {
          "base_uri": "https://localhost:8080/"
        },
        "id": "mMAPJOnAh61x",
        "outputId": "18934a8f-b537-4761-d505-a58a2a77b466"
      },
      "execution_count": 173,
      "outputs": [
        {
          "output_type": "execute_result",
          "data": {
            "text/plain": [
              "(28104, 1)"
            ]
          },
          "metadata": {},
          "execution_count": 173
        }
      ]
    },
    {
      "cell_type": "code",
      "source": [
        "df_finall.to_csv('submission.csv', index_label='id', header=True)"
      ],
      "metadata": {
        "id": "6TuMMGEqjMm7"
      },
      "execution_count": 174,
      "outputs": []
    },
    {
      "cell_type": "markdown",
      "source": [
        "## 🔥 도전과제(Github - Discussion)"
      ],
      "metadata": {
        "id": "5ESgo_5rlXZV"
      }
    },
    {
      "cell_type": "markdown",
      "source": [
        "### 5) confusion matrix, classification report 등을 그려 보시고, 각 평가지표들에 대해 최대한 분석하고 precision과 recall 중 어느 것을 높이는 방향으로 모델링 해야할지 논의해 보세요. "
      ],
      "metadata": {
        "id": "fRoX2XiklXZW"
      }
    },
    {
      "cell_type": "code",
      "execution_count": null,
      "source": [
        "### 이곳에서 과제를 진행해 주세요 ### "
      ],
      "outputs": [],
      "metadata": {
        "id": "ckCNhv_zlXZX"
      }
    },
    {
      "cell_type": "code",
      "source": [
        "optimal_idx = np.argmax(tpr - fpr)\n",
        "optimal_threshold = thresholds[optimal_idx]\n",
        "\n",
        "print('idx:', optimal_idx, ', threshold:', optimal_threshold)"
      ],
      "metadata": {
        "id": "mECvdpqqZaNz"
      },
      "execution_count": null,
      "outputs": []
    },
    {
      "cell_type": "code",
      "source": [
        "pipe = make_pipeline(\n",
        "    OrdinalEncoder(), \n",
        "    SimpleImputer(), \n",
        "    RandomForestClassifier(n_jobs=-1, random_state=20, max_depth=10, n_estimators=100)\n",
        ")\n",
        "\n",
        "pipe.fit(X_train, y_train)\n",
        "# print('검증 정확도', pipe.score(X_val, y_val))\n",
        "# y_pred = pipe.predict(X_val)\n",
        "# print(classification_report(y_val, y_pred))\n",
        "\n",
        "y_pred_proba = pipe.predict_proba(X_val)[:, 1]\n",
        "y_pred = y_pred_proba > threshold\n",
        "\n",
        "ax = sns.histplot(y_pred_proba)\n",
        "ax.axvline(threshold, color='red')\n",
        "\n",
        "pd.Series(y_pred).value_counts()"
      ],
      "metadata": {
        "colab": {
          "base_uri": "https://localhost:8080/",
          "height": 320
        },
        "id": "j9LH5z87Yktg",
        "outputId": "446c84e3-1ca4-4709-b2d6-ba909d7c11be"
      },
      "execution_count": 117,
      "outputs": [
        {
          "output_type": "execute_result",
          "data": {
            "text/plain": [
              "False    7352\n",
              "True     1079\n",
              "dtype: int64"
            ]
          },
          "metadata": {},
          "execution_count": 117
        },
        {
          "output_type": "display_data",
          "data": {
            "text/plain": [
              "<Figure size 432x288 with 1 Axes>"
            ],
            "image/png": "[encoded data removed]"
          },
          "metadata": {
            "needs_background": "light"
          }
        }
      ]
    },
    {
      "cell_type": "code",
      "source": [
        "fpr, tpr, thresholds = roc_curve(y_val, y_pred_proba)\n",
        "plt.scatter(fpr, tpr)\n",
        "plt.title('ROC curve')\n",
        "plt.xlabel('FPR(Fall-out)')\n",
        "plt.ylabel('TPR(Recall)');\n",
        "\n",
        "from sklearn.metrics import roc_auc_score\n",
        "auc_score = roc_auc_score(y_val, y_pred_proba)\n",
        "auc_score"
      ],
      "metadata": {
        "colab": {
          "base_uri": "https://localhost:8080/",
          "height": 313
        },
        "id": "xjm5ZbCvYtjs",
        "outputId": "d9a0343e-9a4e-4013-d623-888c90a37835"
      },
      "execution_count": 118,
      "outputs": [
        {
          "output_type": "execute_result",
          "data": {
            "text/plain": [
              "0.8396087943911931"
            ]
          },
          "metadata": {},
          "execution_count": 118
        },
        {
          "output_type": "display_data",
          "data": {
            "text/plain": [
              "<Figure size 432x288 with 1 Axes>"
            ],
            "image/png": "[encoded data removed]"
          },
          "metadata": {
            "needs_background": "light"
          }
        }
      ]
    },
    {
      "cell_type": "code",
      "source": [
        "# roc_curve(타겟값, prob of 1)\n",
        "fpr, tpr, thresholds = roc_curve(y_val, y_pred_proba)\n",
        "\n",
        "roc = pd.DataFrame({\n",
        "    'FPR(Fall-out)': fpr, \n",
        "    'TPRate(Recall)': tpr, \n",
        "    'Threshold': thresholds\n",
        "})\n",
        "# roc.sort_values(by='FPR(Fall-out)', ascending=0)"
      ],
      "metadata": {
        "id": "T7Mkei2gVeyr"
      },
      "execution_count": 64,
      "outputs": []
    },
    {
      "cell_type": "code",
      "source": [
        "plt.scatter(fpr, tpr)\n",
        "plt.title('ROC curve')\n",
        "plt.xlabel('FPR(Fall-out)')\n",
        "plt.ylabel('TPR(Recall)');"
      ],
      "metadata": {
        "colab": {
          "base_uri": "https://localhost:8080/",
          "height": 295
        },
        "id": "qB_6cdtGVlZ0",
        "outputId": "b954c938-8bd8-43a8-f637-8b8e0b0e6665"
      },
      "execution_count": 47,
      "outputs": [
        {
          "output_type": "display_data",
          "data": {
            "text/plain": [
              "<Figure size 432x288 with 1 Axes>"
            ],
            "image/png": "[encoded data removed]"
          },
          "metadata": {
            "needs_background": "light"
          }
        }
      ]
    },
    {
      "cell_type": "code",
      "source": [
        "y_pred_proba = pipe.predict_proba(X_val)[:, 1]\n",
        "# precision,recall은 trade off관계, precision_recall_curve( )\n",
        "precision,recall,th = precision_recall_curve(y_val,y_pred_proba)\n",
        "plt.xlabel('threadhold') \n",
        "plt.ylabel('score')\n",
        "plt.plot(th,precision[:len(th)],'red',linestyle = '--',label = 'precision')\n",
        "plt.plot(th,recall[:len(th)],'blue',label = 'recall')\n",
        "plt.legend()\n",
        "plt.show()"
      ],
      "metadata": {
        "colab": {
          "base_uri": "https://localhost:8080/",
          "height": 279
        },
        "id": "GtdERlS4f2aD",
        "outputId": "a23022a2-bc74-491c-a69b-80f5f69aaacc"
      },
      "execution_count": 66,
      "outputs": [
        {
          "output_type": "display_data",
          "data": {
            "text/plain": [
              "<Figure size 432x288 with 1 Axes>"
            ],
            "image/png": "[encoded data removed]"
          },
          "metadata": {
            "needs_background": "light"
          }
        }
      ]
    },
    {
      "cell_type": "code",
      "source": [
        ""
      ],
      "metadata": {
        "colab": {
          "base_uri": "https://localhost:8080/"
        },
        "id": "jcwzj3UuWD2e",
        "outputId": "b6cbcab5-f483-406a-c1af-a305053f9b90"
      },
      "execution_count": 51,
      "outputs": [
        {
          "output_type": "stream",
          "name": "stdout",
          "text": [
            "idx: 342 , threshold: 0.3129166666666666\n"
          ]
        }
      ]
    },
    {
      "cell_type": "code",
      "source": [
        ""
      ],
      "metadata": {
        "colab": {
          "base_uri": "https://localhost:8080/"
        },
        "id": "VeGmLRd8WGbl",
        "outputId": "ed9f448b-2253-4044-b534-4b4b571902d1"
      },
      "execution_count": 55,
      "outputs": [
        {
          "output_type": "stream",
          "name": "stdout",
          "text": [
            "              precision    recall  f1-score   support\n",
            "\n",
            "           0       0.90      0.81      0.85      6416\n",
            "           1       0.54      0.70      0.61      2015\n",
            "\n",
            "    accuracy                           0.78      8431\n",
            "   macro avg       0.72      0.75      0.73      8431\n",
            "weighted avg       0.81      0.78      0.79      8431\n",
            "\n"
          ]
        }
      ]
    },
    {
      "cell_type": "code",
      "source": [
        "# threshold = 0.31\n",
        "threshold = optimal_threshold\n",
        "\n",
        "y_pred_proba = pipe.predict_proba(X_val)[:, 1]\n",
        "predicted = (y_pred_proba >= threshold).astype('int')\n",
        "\n",
        "accuracy = accuracy_score(y_test, predicted)\n",
        "\n",
        "# # 예측 확률\n",
        "# proba= model.predict_proba(X_test)\n",
        "\n",
        "fpr,tpr,th = roc_curve(y_test,proba[:,1])\n",
        "fpr, tpr, thresholds = roc_curve(y_val, y_pred_proba)\n",
        "\n",
        "\n",
        "y_pred = y_pred_proba > threshold\n",
        "\n",
        "ax = sns.histplot(y_pred_proba)\n",
        "ax.axvline(threshold, color='red')\n",
        "\n",
        "pd.Series(y_pred).value_counts()\n",
        "\n"
      ],
      "metadata": {
        "id": "4U0CJICnevBO"
      },
      "execution_count": null,
      "outputs": []
    },
    {
      "cell_type": "code",
      "source": [
        "\n",
        "\n",
        "# 예측 확률\n",
        "proba= model.predict_proba(X_test)\n",
        "\n",
        "predicted_proba = random_forest.predict_proba(X_test)\n",
        "predicted = (predicted_proba [:,1] >= threshold).astype('int')\n",
        "\n",
        "accuracy = accuracy_score(y_test, predicted)\n",
        "\n",
        "pipe = make_pipeline(\n",
        "    OrdinalEncoder(), \n",
        "    SimpleImputer(), \n",
        "    RandomForestClassifier(random_state=10, n_jobs=-1, oob_score=True)\n",
        ")\n",
        "# RandomForestClassifier(n_jobs=-1, random_state=10, max_depth=None, oob_score=True, n_estimators=100)\n",
        "\n",
        "pipe.fit(X_train, y_train)\n",
        "print('검증 정확도', pipe.score(X_val, y_val))\n",
        "y_pred = pipe.predict(X_val)\n",
        "print(classification_report(y_val, y_pred))\n",
        "\n"
      ],
      "metadata": {
        "colab": {
          "base_uri": "https://localhost:8080/"
        },
        "id": "HhqZyBiKWs3b",
        "outputId": "34d730cc-bcbf-4386-ba06-47e09ba88143"
      },
      "execution_count": 57,
      "outputs": [
        {
          "output_type": "stream",
          "name": "stdout",
          "text": [
            "검증 정확도 0.8246945795279327\n",
            "              precision    recall  f1-score   support\n",
            "\n",
            "           0       0.85      0.94      0.89      6416\n",
            "           1       0.71      0.46      0.55      2015\n",
            "\n",
            "    accuracy                           0.82      8431\n",
            "   macro avg       0.78      0.70      0.72      8431\n",
            "weighted avg       0.81      0.82      0.81      8431\n",
            "\n"
          ]
        }
      ]
    },
    {
      "cell_type": "code",
      "source": [
        "# vacc_h1n1_f - 응답자가 H1N1 독감 백신을 받았는지 여부\n",
        "fig, ax = plt.subplots()\n",
        "pcm = plot_confusion_matrix(pipe, X_val, y_val,\n",
        "                            cmap=plt.cm.Blues,\n",
        "                            ax=ax)\n",
        "plt.title(f'Confusion matrix, n = {len(y_val)}', fontsize=15)\n",
        "plt.show()"
      ],
      "metadata": {
        "colab": {
          "base_uri": "https://localhost:8080/",
          "height": 354
        },
        "id": "YFcnkt8PYPyI",
        "outputId": "ee230e8e-c531-4dce-da94-3a240c2da487"
      },
      "execution_count": 58,
      "outputs": [
        {
          "output_type": "stream",
          "name": "stderr",
          "text": [
            "/usr/local/lib/python3.7/dist-packages/sklearn/utils/deprecation.py:87: FutureWarning: Function plot_confusion_matrix is deprecated; Function `plot_confusion_matrix` is deprecated in 1.0 and will be removed in 1.2. Use one of the class methods: ConfusionMatrixDisplay.from_predictions or ConfusionMatrixDisplay.from_estimator.\n",
            "  warnings.warn(msg, category=FutureWarning)\n"
          ]
        },
        {
          "output_type": "display_data",
          "data": {
            "text/plain": [
              "<Figure size 432x288 with 2 Axes>"
            ],
            "image/png": "[encoded data removed]"
          },
          "metadata": {
            "needs_background": "light"
          }
        }
      ]
    },
    {
      "cell_type": "code",
      "source": [
        "\n",
        "y_pred_proba = pipe.predict_proba(X_val)[:, 1]\n",
        "y_pred = y_pred_proba > threshold\n",
        "\n",
        "ax = sns.histplot(y_pred_proba)\n",
        "ax.axvline(threshold, color='red')\n",
        "\n",
        "pd.Series(y_pred).value_counts()"
      ],
      "metadata": {
        "colab": {
          "base_uri": "https://localhost:8080/",
          "height": 320
        },
        "id": "nf9l-TQ5Zx6g",
        "outputId": "dcf5f371-d13b-4791-c4b9-563fb690093a"
      },
      "execution_count": 59,
      "outputs": [
        {
          "output_type": "execute_result",
          "data": {
            "text/plain": [
              "False    7134\n",
              "True     1297\n",
              "dtype: int64"
            ]
          },
          "metadata": {},
          "execution_count": 59
        },
        {
          "output_type": "display_data",
          "data": {
            "text/plain": [
              "<Figure size 432x288 with 1 Axes>"
            ],
            "image/png": "[encoded data removed]"
          },
          "metadata": {
            "needs_background": "light"
          }
        }
      ]
    },
    {
      "cell_type": "code",
      "source": [
        "# 실제 타겟 값과 예측확률을 데이터프레임의 예측 확률 낮은 순\n",
        "pred_proba = pd.DataFrame({\n",
        "    'y_val': y_val,\n",
        "    'pred_proba': y_pred_proba})\n",
        "top = pred_proba.sort_values(by='pred_proba', ascending=True)[:4500]\n",
        "top"
      ],
      "metadata": {
        "colab": {
          "base_uri": "https://localhost:8080/",
          "height": 424
        },
        "id": "tpM5Z2JhL4c1",
        "outputId": "1d44efd8-1d44-48cd-ad89-cd9162cefbd9"
      },
      "execution_count": 38,
      "outputs": [
        {
          "output_type": "execute_result",
          "data": {
            "text/plain": [
              "       y_val  pred_proba\n",
              "4001       0         0.0\n",
              "26391      0         0.0\n",
              "12630      0         0.0\n",
              "29981      1         0.0\n",
              "3005       0         0.0\n",
              "...      ...         ...\n",
              "14830      0         0.2\n",
              "10106      0         0.2\n",
              "18998      0         0.2\n",
              "26789      0         0.2\n",
              "3569       0         0.2\n",
              "\n",
              "[4500 rows x 2 columns]"
            ],
            "text/html": [
              "\n",
              "  <div id=\"df-93d8349a-4ed2-4eaf-b4d8-457f511449db\">\n",
              "    <div class=\"colab-df-container\">\n",
              "      <div>\n",
              "<style scoped>\n",
              "    .dataframe tbody tr th:only-of-type {\n",
              "        vertical-align: middle;\n",
              "    }\n",
              "\n",
              "    .dataframe tbody tr th {\n",
              "        vertical-align: top;\n",
              "    }\n",
              "\n",
              "    .dataframe thead th {\n",
              "        text-align: right;\n",
              "    }\n",
              "</style>\n",
              "<table border=\"1\" class=\"dataframe\">\n",
              "  <thead>\n",
              "    <tr style=\"text-align: right;\">\n",
              "      <th></th>\n",
              "      <th>y_val</th>\n",
              "      <th>pred_proba</th>\n",
              "    </tr>\n",
              "  </thead>\n",
              "  <tbody>\n",
              "    <tr>\n",
              "      <th>4001</th>\n",
              "      <td>0</td>\n",
              "      <td>0.0</td>\n",
              "    </tr>\n",
              "    <tr>\n",
              "      <th>26391</th>\n",
              "      <td>0</td>\n",
              "      <td>0.0</td>\n",
              "    </tr>\n",
              "    <tr>\n",
              "      <th>12630</th>\n",
              "      <td>0</td>\n",
              "      <td>0.0</td>\n",
              "    </tr>\n",
              "    <tr>\n",
              "      <th>29981</th>\n",
              "      <td>1</td>\n",
              "      <td>0.0</td>\n",
              "    </tr>\n",
              "    <tr>\n",
              "      <th>3005</th>\n",
              "      <td>0</td>\n",
              "      <td>0.0</td>\n",
              "    </tr>\n",
              "    <tr>\n",
              "      <th>...</th>\n",
              "      <td>...</td>\n",
              "      <td>...</td>\n",
              "    </tr>\n",
              "    <tr>\n",
              "      <th>14830</th>\n",
              "      <td>0</td>\n",
              "      <td>0.2</td>\n",
              "    </tr>\n",
              "    <tr>\n",
              "      <th>10106</th>\n",
              "      <td>0</td>\n",
              "      <td>0.2</td>\n",
              "    </tr>\n",
              "    <tr>\n",
              "      <th>18998</th>\n",
              "      <td>0</td>\n",
              "      <td>0.2</td>\n",
              "    </tr>\n",
              "    <tr>\n",
              "      <th>26789</th>\n",
              "      <td>0</td>\n",
              "      <td>0.2</td>\n",
              "    </tr>\n",
              "    <tr>\n",
              "      <th>3569</th>\n",
              "      <td>0</td>\n",
              "      <td>0.2</td>\n",
              "    </tr>\n",
              "  </tbody>\n",
              "</table>\n",
              "<p>4500 rows × 2 columns</p>\n",
              "</div>\n",
              "      <button class=\"colab-df-convert\" onclick=\"convertToInteractive('df-93d8349a-4ed2-4eaf-b4d8-457f511449db')\"\n",
              "              title=\"Convert this dataframe to an interactive table.\"\n",
              "              style=\"display:none;\">\n",
              "        \n",
              "  <svg xmlns=\"http://www.w3.org/2000/svg\" height=\"24px\"viewBox=\"0 0 24 24\"\n",
              "       width=\"24px\">\n",
              "    <path d=\"M0 0h24v24H0V0z\" fill=\"none\"/>\n",
              "    <path d=\"M18.56 5.44l.94 2.06.94-2.06 2.06-.94-2.06-.94-.94-2.06-.94 2.06-2.06.94zm-11 1L8.5 8.5l.94-2.06 2.06-.94-2.06-.94L8.5 2.5l-.94 2.06-2.06.94zm10 10l.94 2.06.94-2.06 2.06-.94-2.06-.94-.94-2.06-.94 2.06-2.06.94z\"/><path d=\"M17.41 7.96l-1.37-1.37c-.4-.4-.92-.59-1.43-.59-.52 0-1.04.2-1.43.59L10.3 9.45l-7.72 7.72c-.78.78-.78 2.05 0 2.83L4 21.41c.39.39.9.59 1.41.59.51 0 1.02-.2 1.41-.59l7.78-7.78 2.81-2.81c.8-.78.8-2.07 0-2.86zM5.41 20L4 18.59l7.72-7.72 1.47 1.35L5.41 20z\"/>\n",
              "  </svg>\n",
              "      </button>\n",
              "      \n",
              "  <style>\n",
              "    .colab-df-container {\n",
              "      display:flex;\n",
              "      flex-wrap:wrap;\n",
              "      gap: 12px;\n",
              "    }\n",
              "\n",
              "    .colab-df-convert {\n",
              "      background-color: #E8F0FE;\n",
              "      border: none;\n",
              "      border-radius: 50%;\n",
              "      cursor: pointer;\n",
              "      display: none;\n",
              "      fill: #1967D2;\n",
              "      height: 32px;\n",
              "      padding: 0 0 0 0;\n",
              "      width: 32px;\n",
              "    }\n",
              "\n",
              "    .colab-df-convert:hover {\n",
              "      background-color: #E2EBFA;\n",
              "      box-shadow: 0px 1px 2px rgba(60, 64, 67, 0.3), 0px 1px 3px 1px rgba(60, 64, 67, 0.15);\n",
              "      fill: #174EA6;\n",
              "    }\n",
              "\n",
              "    [theme=dark] .colab-df-convert {\n",
              "      background-color: #3B4455;\n",
              "      fill: #D2E3FC;\n",
              "    }\n",
              "\n",
              "    [theme=dark] .colab-df-convert:hover {\n",
              "      background-color: #434B5C;\n",
              "      box-shadow: 0px 1px 3px 1px rgba(0, 0, 0, 0.15);\n",
              "      filter: drop-shadow(0px 1px 2px rgba(0, 0, 0, 0.3));\n",
              "      fill: #FFFFFF;\n",
              "    }\n",
              "  </style>\n",
              "\n",
              "      <script>\n",
              "        const buttonEl =\n",
              "          document.querySelector('#df-93d8349a-4ed2-4eaf-b4d8-457f511449db button.colab-df-convert');\n",
              "        buttonEl.style.display =\n",
              "          google.colab.kernel.accessAllowed ? 'block' : 'none';\n",
              "\n",
              "        async function convertToInteractive(key) {\n",
              "          const element = document.querySelector('#df-93d8349a-4ed2-4eaf-b4d8-457f511449db');\n",
              "          const dataTable =\n",
              "            await google.colab.kernel.invokeFunction('convertToInteractive',\n",
              "                                                     [key], {});\n",
              "          if (!dataTable) return;\n",
              "\n",
              "          const docLinkHtml = 'Like what you see? Visit the ' +\n",
              "            '<a target=\"_blank\" href=https://colab.research.google.com/notebooks/data_table.ipynb>data table notebook</a>'\n",
              "            + ' to learn more about interactive tables.';\n",
              "          element.innerHTML = '';\n",
              "          dataTable['output_type'] = 'display_data';\n",
              "          await google.colab.output.renderOutput(dataTable, element);\n",
              "          const docLink = document.createElement('div');\n",
              "          docLink.innerHTML = docLinkHtml;\n",
              "          element.appendChild(docLink);\n",
              "        }\n",
              "      </script>\n",
              "    </div>\n",
              "  </div>\n",
              "  "
            ]
          },
          "metadata": {},
          "execution_count": 38
        }
      ]
    }
  ],
  "metadata": {
    "kernelspec": {
      "display_name": "Python 3",
      "language": "python",
      "name": "python3"
    },
    "language_info": {
      "codemirror_mode": {
        "name": "ipython",
        "version": 3
      },
      "file_extension": ".py",
      "mimetype": "text/x-python",
      "name": "python",
      "nbconvert_exporter": "python",
      "pygments_lexer": "ipython3",
      "version": "3.7.7"
    },
    "colab": {
      "name": "n223a-evaluation-metrics-for-classification.ipynb",
      "provenance": [],
      "include_colab_link": true
    },
    "widgets": {
      "application/vnd.jupyter.widget-state+json": {
        "2cce7ddde60f4f1090c48ab00acc6acf": {
          "model_module": "@jupyter-widgets/controls",
          "model_name": "VBoxModel",
          "model_module_version": "1.5.0",
          "state": {
            "_dom_classes": [
              "widget-interact"
            ],
            "_model_module": "@jupyter-widgets/controls",
            "_model_module_version": "1.5.0",
            "_model_name": "VBoxModel",
            "_view_count": null,
            "_view_module": "@jupyter-widgets/controls",
            "_view_module_version": "1.5.0",
            "_view_name": "VBoxView",
            "box_style": "",
            "children": [
              "IPY_MODEL_928b186fb10f44e487b50335398cd2e7",
              "IPY_MODEL_284258cd9d654dd29477a29ac6c4c587"
            ],
            "layout": "IPY_MODEL_cb132195401842e3b1d23fae4d616a55"
          }
        },
        "928b186fb10f44e487b50335398cd2e7": {
          "model_module": "@jupyter-widgets/controls",
          "model_name": "FloatSliderModel",
          "model_module_version": "1.5.0",
          "state": {
            "_dom_classes": [],
            "_model_module": "@jupyter-widgets/controls",
            "_model_module_version": "1.5.0",
            "_model_name": "FloatSliderModel",
            "_view_count": null,
            "_view_module": "@jupyter-widgets/controls",
            "_view_module_version": "1.5.0",
            "_view_name": "FloatSliderView",
            "continuous_update": true,
            "description": "threshold",
            "description_tooltip": null,
            "disabled": false,
            "layout": "IPY_MODEL_d1309c3ab3f742c1a8cea8f55ec331d8",
            "max": 1,
            "min": 0,
            "orientation": "horizontal",
            "readout": true,
            "readout_format": ".2f",
            "step": 0.01,
            "style": "IPY_MODEL_b54269938e3044fcb53b88c9a58a5199",
            "value": 0.32
          }
        },
        "284258cd9d654dd29477a29ac6c4c587": {
          "model_module": "@jupyter-widgets/output",
          "model_name": "OutputModel",
          "model_module_version": "1.0.0",
          "state": {
            "_dom_classes": [],
            "_model_module": "@jupyter-widgets/output",
            "_model_module_version": "1.0.0",
            "_model_name": "OutputModel",
            "_view_count": null,
            "_view_module": "@jupyter-widgets/output",
            "_view_module_version": "1.0.0",
            "_view_name": "OutputView",
            "layout": "IPY_MODEL_d23e3f5b75c54490a0dafded074b0ee9",
            "msg_id": "",
            "outputs": [
              {
                "output_type": "display_data",
                "data": {
                  "text/plain": "<Figure size 432x288 with 1 Axes>",
                  "image/png": "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\n"
                },
                "metadata": {
                  "needs_background": "light"
                }
              },
              {
                "output_type": "stream",
                "name": "stdout",
                "text": [
                  "              precision    recall  f1-score   support\n",
                  "\n",
                  "           0       0.90      0.81      0.85      6416\n",
                  "           1       0.54      0.70      0.61      2015\n",
                  "\n",
                  "    accuracy                           0.78      8431\n",
                  "   macro avg       0.72      0.75      0.73      8431\n",
                  "weighted avg       0.81      0.78      0.79      8431\n",
                  "\n"
                ]
              }
            ]
          }
        },
        "cb132195401842e3b1d23fae4d616a55": {
          "model_module": "@jupyter-widgets/base",
          "model_name": "LayoutModel",
          "model_module_version": "1.2.0",
          "state": {
            "_model_module": "@jupyter-widgets/base",
            "_model_module_version": "1.2.0",
            "_model_name": "LayoutModel",
            "_view_count": null,
            "_view_module": "@jupyter-widgets/base",
            "_view_module_version": "1.2.0",
            "_view_name": "LayoutView",
            "align_content": null,
            "align_items": null,
            "align_self": null,
            "border": null,
            "bottom": null,
            "display": null,
            "flex": null,
            "flex_flow": null,
            "grid_area": null,
            "grid_auto_columns": null,
            "grid_auto_flow": null,
            "grid_auto_rows": null,
            "grid_column": null,
            "grid_gap": null,
            "grid_row": null,
            "grid_template_areas": null,
            "grid_template_columns": null,
            "grid_template_rows": null,
            "height": null,
            "justify_content": null,
            "justify_items": null,
            "left": null,
            "margin": null,
            "max_height": null,
            "max_width": null,
            "min_height": null,
            "min_width": null,
            "object_fit": null,
            "object_position": null,
            "order": null,
            "overflow": null,
            "overflow_x": null,
            "overflow_y": null,
            "padding": null,
            "right": null,
            "top": null,
            "visibility": null,
            "width": null
          }
        },
        "d1309c3ab3f742c1a8cea8f55ec331d8": {
          "model_module": "@jupyter-widgets/base",
          "model_name": "LayoutModel",
          "model_module_version": "1.2.0",
          "state": {
            "_model_module": "@jupyter-widgets/base",
            "_model_module_version": "1.2.0",
            "_model_name": "LayoutModel",
            "_view_count": null,
            "_view_module": "@jupyter-widgets/base",
            "_view_module_version": "1.2.0",
            "_view_name": "LayoutView",
            "align_content": null,
            "align_items": null,
            "align_self": null,
            "border": null,
            "bottom": null,
            "display": null,
            "flex": null,
            "flex_flow": null,
            "grid_area": null,
            "grid_auto_columns": null,
            "grid_auto_flow": null,
            "grid_auto_rows": null,
            "grid_column": null,
            "grid_gap": null,
            "grid_row": null,
            "grid_template_areas": null,
            "grid_template_columns": null,
            "grid_template_rows": null,
            "height": null,
            "justify_content": null,
            "justify_items": null,
            "left": null,
            "margin": null,
            "max_height": null,
            "max_width": null,
            "min_height": null,
            "min_width": null,
            "object_fit": null,
            "object_position": null,
            "order": null,
            "overflow": null,
            "overflow_x": null,
            "overflow_y": null,
            "padding": null,
            "right": null,
            "top": null,
            "visibility": null,
            "width": null
          }
        },
        "b54269938e3044fcb53b88c9a58a5199": {
          "model_module": "@jupyter-widgets/controls",
          "model_name": "SliderStyleModel",
          "model_module_version": "1.5.0",
          "state": {
            "_model_module": "@jupyter-widgets/controls",
            "_model_module_version": "1.5.0",
            "_model_name": "SliderStyleModel",
            "_view_count": null,
            "_view_module": "@jupyter-widgets/base",
            "_view_module_version": "1.2.0",
            "_view_name": "StyleView",
            "description_width": "",
            "handle_color": null
          }
        },
        "d23e3f5b75c54490a0dafded074b0ee9": {
          "model_module": "@jupyter-widgets/base",
          "model_name": "LayoutModel",
          "model_module_version": "1.2.0",
          "state": {
            "_model_module": "@jupyter-widgets/base",
            "_model_module_version": "1.2.0",
            "_model_name": "LayoutModel",
            "_view_count": null,
            "_view_module": "@jupyter-widgets/base",
            "_view_module_version": "1.2.0",
            "_view_name": "LayoutView",
            "align_content": null,
            "align_items": null,
            "align_self": null,
            "border": null,
            "bottom": null,
            "display": null,
            "flex": null,
            "flex_flow": null,
            "grid_area": null,
            "grid_auto_columns": null,
            "grid_auto_flow": null,
            "grid_auto_rows": null,
            "grid_column": null,
            "grid_gap": null,
            "grid_row": null,
            "grid_template_areas": null,
            "grid_template_columns": null,
            "grid_template_rows": null,
            "height": null,
            "justify_content": null,
            "justify_items": null,
            "left": null,
            "margin": null,
            "max_height": null,
            "max_width": null,
            "min_height": null,
            "min_width": null,
            "object_fit": null,
            "object_position": null,
            "order": null,
            "overflow": null,
            "overflow_x": null,
            "overflow_y": null,
            "padding": null,
            "right": null,
            "top": null,
            "visibility": null,
            "width": null
          }
        }
      }
    }
  },
  "nbformat": 4,
  "nbformat_minor": 0
}