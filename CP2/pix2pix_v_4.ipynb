{
  "nbformat": 4,
  "nbformat_minor": 0,
  "metadata": {
    "colab": {
      "provenance": [],
      "authorship_tag": "ABX9TyMfrvNEtey2LDCTHnnT5RPe",
      "include_colab_link": true
    },
    "kernelspec": {
      "name": "python3",
      "display_name": "Python 3"
    },
    "language_info": {
      "name": "python"
    },
    "accelerator": "GPU",
    "gpuClass": "standard"
  },
  "cells": [
    {
      "cell_type": "markdown",
      "metadata": {
        "id": "view-in-github",
        "colab_type": "text"
      },
      "source": [
        "<a href=\"https://colab.research.google.com/github/Ha-eunYu/Section_Project/blob/main/pix2pix_v_4.ipynb\" target=\"_parent\"><img src=\"https://colab.research.google.com/assets/colab-badge.svg\" alt=\"Open In Colab\"/></a>"
      ]
    },
    {
      "cell_type": "code",
      "source": [
        "from psutil import virtual_memory\n",
        "import torch\n",
        "\n",
        "# colab-GPU 사용 확인\n",
        "gpu_info = !nvidia-smi\n",
        "gpu_info = '\\n'.join(gpu_info)\n",
        "if gpu_info.find('failed') >= 0:\n",
        "  print('GPU 연결 실패!')\n",
        "else:\n",
        "  print(gpu_info)\n",
        "\n",
        "# RAM 사용량 체크\n",
        "ram_gb = virtual_memory().total / 1e9\n",
        "print('{:.1f} gigabytes of available RAM\\n'.format(ram_gb))\n",
        "\n",
        "# pytorch-GPU 연결 확인\n",
        "device = torch.device(\"cuda\" if torch.cuda.is_available() else \"cpu\")\n",
        "print('학습을 진행하는 기기:',device)\n",
        "\n",
        "# 구글 드라이브 연결. 만약 직접 데이터셋을 사용한다면 주석 해제.\n",
        "# from google.colab import drive\n",
        "# drive.mount('/content/drive')\n"
      ],
      "metadata": {
        "colab": {
          "base_uri": "https://localhost:8080/"
        },
        "id": "wk63b2NJw2Ex",
        "outputId": "88feea38-6fa0-4f4a-eeff-5cd3db5d3e5d"
      },
      "execution_count": 3,
      "outputs": [
        {
          "output_type": "stream",
          "name": "stdout",
          "text": [
            "Thu Dec  8 12:54:26 2022       \n",
            "+-----------------------------------------------------------------------------+\n",
            "| NVIDIA-SMI 460.32.03    Driver Version: 460.32.03    CUDA Version: 11.2     |\n",
            "|-------------------------------+----------------------+----------------------+\n",
            "| GPU  Name        Persistence-M| Bus-Id        Disp.A | Volatile Uncorr. ECC |\n",
            "| Fan  Temp  Perf  Pwr:Usage/Cap|         Memory-Usage | GPU-Util  Compute M. |\n",
            "|                               |                      |               MIG M. |\n",
            "|===============================+======================+======================|\n",
            "|   0  Tesla T4            Off  | 00000000:00:04.0 Off |                    0 |\n",
            "| N/A   54C    P8    15W /  70W |      3MiB / 15109MiB |      0%      Default |\n",
            "|                               |                      |                  N/A |\n",
            "+-------------------------------+----------------------+----------------------+\n",
            "                                                                               \n",
            "+-----------------------------------------------------------------------------+\n",
            "| Processes:                                                                  |\n",
            "|  GPU   GI   CI        PID   Type   Process name                  GPU Memory |\n",
            "|        ID   ID                                                   Usage      |\n",
            "|=============================================================================|\n",
            "|  No running processes found                                                 |\n",
            "+-----------------------------------------------------------------------------+\n",
            "13.6 gigabytes of available RAM\n",
            "\n",
            "학습을 진행하는 기기: cuda\n"
          ]
        }
      ]
    },
    {
      "cell_type": "code",
      "execution_count": 2,
      "metadata": {
        "id": "QjP_bZy4eJN6"
      },
      "outputs": [],
      "source": [
        "import torch\n",
        "import torch.nn as nn\n",
        "import torch.nn.functional as F\n",
        "import torch.optim as optim\n",
        "import torch.utils.data as data\n",
        "from torch.utils.data import DataLoader\n",
        "import torchvision.transforms as transforms\n",
        "\n",
        "from PIL import Image\n",
        "import matplotlib.pyplot as plt\n",
        "from math import log10 # For metric function\n",
        "\n",
        "import os\n",
        "os.environ['CUDA_VISIBLE_DEVICES'] = '0'"
      ]
    },
    {
      "cell_type": "code",
      "source": [
        "#  동적 코드 다운\n",
        "# !pip install fastai==2.4"
      ],
      "metadata": {
        "id": "EGMIO5Yxvw-g"
      },
      "execution_count": null,
      "outputs": []
    },
    {
      "cell_type": "code",
      "source": [
        "from fastai.data.external import untar_data,URLs\n",
        "import glob\n",
        "\n",
        "coco_path = untar_data(URLs.COCO_SAMPLE)\n",
        "paths = glob.glob(str(coco_path) + \"/train_sample/*.jpg\")\n"
      ],
      "metadata": {
        "id": "8ax1o7nKPNS_"
      },
      "execution_count": 4,
      "outputs": []
    },
    {
      "cell_type": "code",
      "source": [
        "import numpy as np\n",
        "\n",
        "np.random.seed(1)\n",
        "chosen_paths = np.random.choice(paths, 5000, replace=False)\n",
        "index = np.random.permutation(5000)\n",
        "\n",
        "train_paths = chosen_paths[index[:4000]] # 앞의 4000을 train 이미지 쓰겠다.\n",
        "val_paths = chosen_paths[index[4000:]]"
      ],
      "metadata": {
        "id": "zhtiUCxNsCVi"
      },
      "execution_count": 5,
      "outputs": []
    },
    {
      "cell_type": "code",
      "source": [
        "import matplotlib\n",
        "import matplotlib.pyplot as plt\n",
        "\n",
        "sample = matplotlib.image.imread(train_paths[2])\n",
        "plt.imshow(sample)\n",
        "plt.axis(\"off\")\n",
        "plt.show()"
      ],
      "metadata": {
        "colab": {
          "base_uri": "https://localhost:8080/",
          "height": 248
        },
        "id": "gzLkvHYqow8g",
        "outputId": "46bef403-d14d-4c2f-dfd0-82514e03f359"
      },
      "execution_count": 6,
      "outputs": [
        {
          "output_type": "display_data",
          "data": {
            "text/plain": [
              "<Figure size 432x288 with 1 Axes>"
            ],
            "image/png": "[encoded data removed]"
          },
          "metadata": {
            "needs_background": "light"
          }
        }
      ]
    },
    {
      "cell_type": "code",
      "source": [
        "# 기본적인 데이터 로더\n",
        "import torch\n",
        "from torch.utils.data import Dataset"
      ],
      "metadata": {
        "id": "FvPdmOemv3MC"
      },
      "execution_count": 7,
      "outputs": []
    },
    {
      "cell_type": "code",
      "source": [
        "from torch.utils.data import Dataset, DataLoader\n",
        "from torchvision import transforms\n",
        "from PIL import ImageDraw\n",
        "from skimage.color import rgb2lab\n",
        "import numpy as np\n",
        "\n",
        "class ColoriztionDataset(Dataset):\n",
        "  def __inti__(self, paths, mode='train'):\n",
        "      self.mode = mode\n",
        "      self.paths = paths\n",
        "\n",
        "      if mode == \"train\":\n",
        "        self.transforms = transforms.Compose([\n",
        "            transforms.Resize((256,256), Image.BICUBIC),\n",
        "            transforms.RandomHorizontalFlip()\n",
        "        ])\n",
        "      elif mode == \"val\":\n",
        "        self.transform = transforms.Resize((256,256), Image.BICUBIC)\n",
        "      else:\n",
        "        raise Exception(\"train or validation only!!!!\")\n",
        "\n",
        "  def __getitem__(self, index):\n",
        "      img = Image.open(self.paths[index]).convaert(\"RGC\")\n",
        "      img = np.array(self.transorms(img))\n",
        "      img = rgb2lab(img).astype(\"floa32\") # RGE 채널을 Lab채널로 변환해 주는 것!\n",
        "      img = transforms.ToTensor()(img)\n",
        "      L = img[[0],...] /50. -1 # -1 ~ 1 사이로 정규화 진행\n",
        "      ab = img[[1,2],...] # -1 ~ 1 사이로 정규화 진행\n",
        "\n",
        "      return {'L':L, 'ab' : ab}\n",
        "\n",
        "  def __len__(self):\n",
        "      return len(self.paths)\n"
      ],
      "metadata": {
        "id": "sOzyBO8boaCJ"
      },
      "execution_count": 12,
      "outputs": []
    },
    {
      "cell_type": "code",
      "source": [
        "# from torch.utils.data import Dataset, DataLoader\n",
        "# from torchvision import transforms\n",
        "# from PIL import Image\n",
        "# from skimage.color import rgb2lab, lab2rgb\n",
        "# import numpy as np\n",
        "\n",
        "# class ColorizationDataset(Dataset):\n",
        "#   def __init__(self, paths, mode='train'):\n",
        "#       self.mode = mode\n",
        "#       self.paths = paths\n",
        "\n",
        "#       if mode == \"train\":\n",
        "#         self.transforms = transforms.Compose([\n",
        "#             transforms.Resize((256, 256), Image.BICUBIC),\n",
        "#             transforms.RandomHorizontalFlip(),\n",
        "#         ])\n",
        "#       elif mode == \"val\":\n",
        "#         self.transforms = transforms.Resize((256, 256), Image.BICUBIC)\n",
        "#       else:\n",
        "#         raise Exception(\"train or validation only!!!!\")\n",
        "      \n",
        "#   def __getitem__(self, index):\n",
        "#       img = Image.open(self.paths[index]).convert(\"RGB\")\n",
        "#       img = np.array(self.transforms(img))\n",
        "#       img = rgb2lab(img).astype(\"float32\") # RGB 채널을 Lab 채널로 변환해 주는 것!\n",
        "#       img = transforms.ToTensor()(img)\n",
        "#       L = img[[0], ...] /50. -1 # -1 ~ 1 사이로 정규화를 진행한다.\n",
        "#       ab = img[[1, 2], ...] / 110. # -1 ~ 1 사이로 정규화를 진행한다.\n",
        "\n",
        "#       return {'L': L, 'ab': ab}\n",
        "\n",
        "#   def __len__(self):\n",
        "#       return len(self.paths)\n",
        "\n",
        "# dataset_train = ColorizationDataset(train_paths, mode='train')\n",
        "# dataset_val = ColorizationDataset(val_paths, mode='val')\n",
        "\n",
        "# dataloader_train = DataLoader(dataset_train, batch_size=16, num_workers=2, pin_memory=True)\n",
        "# dataloader_val = DataLoader(dataset_val, batch_size=16, num_workers=2, pin_memory=True)"
      ],
      "metadata": {
        "colab": {
          "base_uri": "https://localhost:8080/"
        },
        "id": "M3OtcQhdugxC",
        "outputId": "ec539630-0a34-4748-c8c6-61d8bffd24da"
      },
      "execution_count": 10,
      "outputs": [
        {
          "output_type": "stream",
          "name": "stderr",
          "text": [
            "/usr/local/lib/python3.8/dist-packages/torchvision/transforms/transforms.py:280: UserWarning: Argument interpolation should be of type InterpolationMode instead of int. Please, use InterpolationMode enum.\n",
            "  warnings.warn(\n"
          ]
        }
      ]
    },
    {
      "cell_type": "code",
      "source": [
        "dataset_train = ColorizationDataset(train_paths, mode ='train')\n",
        "dataset_val = ColorizationDataset(val_paths,mode='val')"
      ],
      "metadata": {
        "colab": {
          "base_uri": "https://localhost:8080/"
        },
        "id": "UeXXewMTsoB9",
        "outputId": "72d65b15-2c26-4d08-cf17-6a06a750c5dd"
      },
      "execution_count": 13,
      "outputs": [
        {
          "output_type": "stream",
          "name": "stderr",
          "text": [
            "/usr/local/lib/python3.8/dist-packages/torchvision/transforms/transforms.py:280: UserWarning: Argument interpolation should be of type InterpolationMode instead of int. Please, use InterpolationMode enum.\n",
            "  warnings.warn(\n"
          ]
        }
      ]
    },
    {
      "cell_type": "code",
      "source": [
        "dataset_train= DataLoader(dataset_train, batch_size= 16, num_workers=2,pin_memory =True)\n",
        "dataset_val= DataLoader(dataset_val, batch_size= 16, num_workers=2,pin_memory =True)"
      ],
      "metadata": {
        "id": "yNfBywVftd0R"
      },
      "execution_count": 14,
      "outputs": []
    },
    {
      "cell_type": "code",
      "source": [
        "data = next(iter(dataloader_train))\n",
        "Ls, abs = data['L'],data['ab']\n",
        "print(Ls.shape, abs.shape)"
      ],
      "metadata": {
        "colab": {
          "base_uri": "https://localhost:8080/"
        },
        "id": "25gZrxT9tgPP",
        "outputId": "b70d7b85-4c72-4bcb-b13b-1f0b2eaa4d87"
      },
      "execution_count": 16,
      "outputs": [
        {
          "output_type": "stream",
          "name": "stdout",
          "text": [
            "torch.Size([16, 1, 256, 256]) torch.Size([16, 2, 256, 256])\n"
          ]
        }
      ]
    },
    {
      "cell_type": "code",
      "source": [
        "import torch.nn as nn\n",
        "\n",
        "class SRCNN(nn.Module):\n",
        "  def __init__(self. num_channels=1):\n",
        "    super(SRCNN,self).__ini__()\n",
        "\n",
        "    self.conv1 = nn.Conv2d(num_channels, 64, kenel_size=9,paddnig=9//2)\n",
        "    self.conv2 = nn.Conv2d(64, 32, kenel_size=5,paddnig=5//2)\n",
        "    self.conv2 = nn.Conv2d(32, num_channels, kenel_size=5,paddnig=5//2)\n",
        "    self.relu = nn.ReLU(inplace=True)\n",
        "\n",
        "  def forward(self ,x):\n",
        "    x= self.convl(x)\n",
        "    x = self.relu()\n",
        "    x = self.conv2(x)\n",
        "    x = self.relu(x)\n",
        "    x = self.conv3(x)\n",
        "\n",
        "    return x"
      ],
      "metadata": {
        "colab": {
          "base_uri": "https://localhost:8080/",
          "height": 137
        },
        "id": "9jdABpQ6xHq9",
        "outputId": "1bcba1af-924e-4221-fa76-55c6acf1d2bd"
      },
      "execution_count": 24,
      "outputs": [
        {
          "output_type": "error",
          "ename": "SyntaxError",
          "evalue": "ignored",
          "traceback": [
            "\u001b[0;36m  File \u001b[0;32m\"<ipython-input-24-718f3aab9955>\"\u001b[0;36m, line \u001b[0;32m1\u001b[0m\n\u001b[0;31m    class SRCNN(nn,Module):\u001b[0m\n\u001b[0m                           ^\u001b[0m\n\u001b[0;31mSyntaxError\u001b[0m\u001b[0;31m:\u001b[0m unexpected EOF while parsing\n"
          ]
        }
      ]
    },
    {
      "cell_type": "code",
      "source": [
        "import skimage.color import rgb2lab, lab2rgb\n",
        "\n",
        "\n",
        "class Prepoxess_Image(Dataset):\n",
        "  # 생성자\n",
        "  def __init__ (self, paths,mode='train'):\n",
        "    self.mode=mode\n",
        "    self.path=path\n",
        "\n",
        "    # if else문으로 mode가 train인지 아닌지를 설정\n",
        "    # train인 경우, 이미지 사이즈 통일하고 random horizontal flip으로 augmentation 해준다.\n",
        "    # validation인 경우, 이미지 사이즈만 통일하자\n",
        "    \n",
        "    # trasform.Compose 선언!\n",
        "\n",
        "    self.transforms = trainforms.Resize((256,256), Image.BiCUBIC)\n",
        "\n",
        "  def __getitem(self, index):\n",
        "    # 이미지를 불러온다.\n",
        "    pil\n",
        "    # 이미지를 위에서 생성한 transform에 넣어준다.\n",
        "    # 이미지를 넘파이 어레이로 변환한다.\n",
        "    # sklearn rgb2lab lab2rgb\n",
        "    # 이미지를 텐서로 바꿔준다.\n",
        "    # 정류화를 진행한다.\n",
        "  return{'L' : L, 'ab': ab}\n",
        "\n",
        "  def __len(self):\n",
        "    return len(self.paths)"
      ],
      "metadata": {
        "id": "GkoGuUz1P0ge"
      },
      "execution_count": null,
      "outputs": []
    },
    {
      "cell_type": "code",
      "source": [
        "# Load Dataset from ImageFolder\n",
        "class Dataset(data.Dataset): # torch Dataset 상속받기\n",
        "    def __init__(self, image_dir, direction):\n",
        "        super(Dataset, self).__init__() # 초기화 상속\n",
        "        self.direction = direction # \n",
        "        self.a_path = os.path.join(image_dir, \"a\") # a: 건물\n",
        "        self.b_path = os.path.join(image_dir, \"b\") # b: Segmentation Mask\n",
        "        self.image_filenames = [x for x in os.listdir(self.a_path)] \n",
        "        self.transform = transforms.Compose([transforms.Resize((256, 256)), # 이미지 크기\n",
        "                                            transforms.ToTensor(), # Numpy -> Tensor\n",
        "                                             transforms.Normalize(mean=(0.5, 0.5, 0.5), \n",
        "                                                std=(0.5, 0.5, 0.5)) # Normalization : -1 ~ 1 range\n",
        "                                            ])\n",
        "        self.len = len(self.image_filenames)\n",
        "    \n",
        "    def __getitem__(self, index):\n",
        "        \n",
        "        # a,b 폴더에서 불러오기\n",
        "        a = Image.open(os.path.join(self.a_path, self.image_filenames[index])).convert('RGB') # 건물 사진\n",
        "        b = Image.open(os.path.join(self.b_path, self.image_filenames[index])).convert('RGB') # Segmentation 사진\n",
        "        \n",
        "        # 이미지 전처리\n",
        "        a = self.transform(a)\n",
        "        b = self.transform(b)\n",
        "        \n",
        "        if self.direction == \"a2b\": # 건물 -> Segmentation\n",
        "            return a, b\n",
        "        else:  # Segmentation -> 건물\n",
        "            return b, a\n",
        "    \n",
        "    def __len__(self):\n",
        "        return self.len\n",
        "        "
      ],
      "metadata": {
        "id": "RKHt5kf_eM9t"
      },
      "execution_count": null,
      "outputs": []
    },
    {
      "cell_type": "code",
      "source": [
        "# train_dataset = Dataset(\" \", \"b2a\")\n",
        "# test_dataset = Dataset(\" \", \"b2a\")\n",
        "\n",
        "# train_loader = DataLoader(dataset=train_dataset, num_workers=0, batch_size=1, shuffle=True) # Shuffle\n",
        "# test_loader = DataLoader(dataset=test_dataset, num_workers=0, batch_size=1, shuffle=False)"
      ],
      "metadata": {
        "id": "J-osO3ubevAu"
      },
      "execution_count": null,
      "outputs": []
    },
    {
      "cell_type": "code",
      "source": [
        "# -1~1 → 0~1\n",
        "def denorm(x):\n",
        "    out = (x + 1) / 2\n",
        "    return out.clamp(0, 1)\n",
        "\n",
        "def show_images(real_a, real_b, fake_b):\n",
        "    plt.figure(figsize=(30,90))\n",
        "    plt.subplot(131)\n",
        "    plt.imshow(real_a.cpu().data.numpy().transpose(1,2,0))\n",
        "    plt.xticks([])\n",
        "    plt.yticks([])\n",
        "    \n",
        "    plt.subplot(132)\n",
        "    plt.imshow(real_b.cpu().data.numpy().transpose(1,2,0))\n",
        "    plt.xticks([])\n",
        "    plt.yticks([])\n",
        "    \n",
        "    plt.subplot(133)\n",
        "    plt.imshow(fake_b.cpu().data.numpy().transpose(1,2,0))\n",
        "    plt.xticks([])\n",
        "    plt.yticks([])\n",
        "    \n",
        "    plt.show()"
      ],
      "metadata": {
        "id": "WSjSASU4e5Y_"
      },
      "execution_count": null,
      "outputs": []
    },
    {
      "cell_type": "code",
      "source": [
        "# Conv -> Batchnorm -> Activate function Layer\n",
        "\n",
        "def conv(c_in, c_out, k_size, stride=2, pad=1, bn=True, activation='relu'):\n",
        "    layers = []\n",
        "    \n",
        "    # Conv layer\n",
        "    layers.append(nn.Conv2d(c_in, c_out, k_size, stride, pad, bias=False))\n",
        "    \n",
        "    # Batch Normalization\n",
        "    if bn:\n",
        "        layers.append(nn.BatchNorm2d(c_out))\n",
        "    \n",
        "    # Activation\n",
        "    if activation == 'lrelu':\n",
        "        layers.append(nn.LeakyReLU(0.2))\n",
        "    elif activation == 'relu':\n",
        "        layers.append(nn.ReLU())\n",
        "    elif activation == 'tanh':\n",
        "        layers.append(nn.Tanh())\n",
        "    elif activation == 'none':\n",
        "        pass\n",
        "    \n",
        "    return nn.Sequential(*layers)\n",
        "\n",
        "# Deconv -> BatchNorm -> Activate function Layer\n",
        "\n",
        "def deconv(c_in, c_out, k_size, stride=2, pad=1, bn=True, activation='lrelu'):\n",
        "    layers = []\n",
        "    \n",
        "    # Deconv.\n",
        "    layers.append(nn.ConvTranspose2d(c_in, c_out, k_size, stride, pad, bias=False))\n",
        "    \n",
        "    # Batchnorm\n",
        "    if bn:\n",
        "        layers.append(nn.BatchNorm2d(c_out))\n",
        "    \n",
        "    # Activation\n",
        "    if activation == 'lrelu':\n",
        "        layers.append(nn.LeakyReLU(0.2))\n",
        "    elif activation == 'relu':\n",
        "        layers.append(nn.ReLU())\n",
        "    elif activation == 'tanh':\n",
        "        layers.append(nn.Tanh())\n",
        "    elif activation == 'none':\n",
        "        pass\n",
        "                \n",
        "    return nn.Sequential(*layers)"
      ],
      "metadata": {
        "id": "op1_XPlBfXmw"
      },
      "execution_count": null,
      "outputs": []
    },
    {
      "cell_type": "code",
      "source": [
        "class Generator(nn.Module):\n",
        "    # initializers\n",
        "    def __init__(self):\n",
        "        super(Generator, self).__init__()\n",
        "        # Unet encoder\n",
        "        self.conv1 = conv(3, 64, 4, bn=False, activation='lrelu') # (B, 64, 128, 128)\n",
        "        self.conv2 = conv(64, 128, 4, activation='lrelu') # (B, 128, 64, 64)\n",
        "        self.conv3 = conv(128, 256, 4, activation='lrelu') # (B, 256, 32, 32)\n",
        "        self.conv4 = conv(256, 512, 4, activation='lrelu') # (B, 512, 16, 16)\n",
        "        self.conv5 = conv(512, 512, 4, activation='lrelu') # (B, 512, 8, 8)\n",
        "        self.conv6 = conv(512, 512, 4, activation='lrelu') # (B, 512, 4, 4)\n",
        "        self.conv7 = conv(512, 512, 4, activation='lrelu') # (B, 512, 2, 2)\n",
        "        self.conv8 = conv(512, 512, 4, bn=False, activation='relu') # (B, 512, 1, 1)\n",
        "\n",
        "        # Unet decoder\n",
        "        self.deconv1 = deconv(512, 512, 4, activation='relu') # (B, 512, 2, 2)\n",
        "        self.deconv2 = deconv(1024, 512, 4, activation='relu') # (B, 512, 4, 4)\n",
        "        self.deconv3 = deconv(1024, 512, 4, activation='relu') # (B, 512, 8, 8) \n",
        "        self.deconv4 = deconv(1024, 512, 4, activation='relu') # (B, 512, 16, 16)\n",
        "        self.deconv5 = deconv(1024, 256, 4, activation='relu') # (B, 256, 32, 32)\n",
        "        self.deconv6 = deconv(512, 128, 4, activation='relu') # (B, 128, 64, 64)\n",
        "        self.deconv7 = deconv(256, 64, 4, activation='relu') # (B, 64, 128, 128)\n",
        "        self.deconv8 = deconv(128, 3, 4, activation='tanh') # (B, 3, 256, 256)\n",
        "\n",
        "    # forward method\n",
        "    def forward(self, input):\n",
        "        # Unet encoder\n",
        "        e1 = self.conv1(input)\n",
        "        e2 = self.conv2(e1)\n",
        "        e3 = self.conv3(e2)\n",
        "        e4 = self.conv4(e3)\n",
        "        e5 = self.conv5(e4)\n",
        "        e6 = self.conv6(e5)\n",
        "        e7 = self.conv7(e6)\n",
        "        e8 = self.conv8(e7)\n",
        "                              \n",
        "        # Unet decoder\n",
        "        d1 = F.dropout(self.deconv1(e8), 0.5, training=True)\n",
        "        d2 = F.dropout(self.deconv2(torch.cat([d1, e7], 1)), 0.5, training=True)\n",
        "        d3 = F.dropout(self.deconv3(torch.cat([d2, e6], 1)), 0.5, training=True)\n",
        "        d4 = self.deconv4(torch.cat([d3, e5], 1))\n",
        "        d5 = self.deconv5(torch.cat([d4, e4], 1))\n",
        "        d6 = self.deconv6(torch.cat([d5, e3], 1))\n",
        "        d7 = self.deconv7(torch.cat([d6, e2], 1))\n",
        "        output = self.deconv8(torch.cat([d7, e1], 1))\n",
        "        \n",
        "        return output"
      ],
      "metadata": {
        "id": "HU1HsddLft1r"
      },
      "execution_count": null,
      "outputs": []
    },
    {
      "cell_type": "code",
      "source": [
        "# patch 보고 판별하는 D\n",
        "class Discriminator(nn.Module):\n",
        "    # initializers\n",
        "    def __init__(self):\n",
        "        super(Discriminator, self).__init__()\n",
        "        self.conv1 = conv(6, 64, 4, bn=False, activation='lrelu')\n",
        "        self.conv2 = conv(64, 128, 4, activation='lrelu')\n",
        "        self.conv3 = conv(128, 256, 4, activation='lrelu')\n",
        "        self.conv4 = conv(256, 512, 4, 1, 1, activation='lrelu')\n",
        "        self.conv5 = conv(512, 1, 4, 1, 1, activation='none')\n",
        "\n",
        "    # forward method\n",
        "    def forward(self, input):\n",
        "        out = self.conv1(input)\n",
        "        out = self.conv2(out)\n",
        "        out = self.conv3(out)\n",
        "        out = self.conv4(out)\n",
        "        out = self.conv5(out)\n",
        "\n",
        "        return out"
      ],
      "metadata": {
        "id": "DZ-FSTMugv1_"
      },
      "execution_count": null,
      "outputs": []
    },
    {
      "cell_type": "code",
      "source": [
        "# G, D GPU로\n",
        "G = Generator().cuda()\n",
        "D = Discriminator().cuda()\n",
        "\n",
        "criterionL1 = nn.L1Loss().cuda()\n",
        "criterionMSE = nn.MSELoss().cuda()\n",
        "\n",
        "# Setup optimizer\n",
        "g_optimizer = optim.Adam(G.parameters(), lr=0.0002, betas=(0.5, 0.999))\n",
        "d_optimizer = optim.Adam(D.parameters(), lr=0.0002, betas=(0.5, 0.999))"
      ],
      "metadata": {
        "id": "3upWp3DlhSEq"
      },
      "execution_count": null,
      "outputs": []
    },
    {
      "cell_type": "code",
      "source": [
        "# Train\n",
        "for epoch in range(1, 100):\n",
        "    for i, (real_a, real_b) in enumerate(train_loader, 1):\n",
        "        # forward\n",
        "        real_a, real_b = real_a.cuda(), real_b.cuda()\n",
        "        real_label = torch.ones(1).cuda()\n",
        "        fake_label = torch.zeros(1).cuda()\n",
        "        \n",
        "        fake_b = G(real_a) # G가 생성한 fake\n",
        "        \n",
        "        #============= Train the discriminator =============#\n",
        "        # train with fake\n",
        "        fake_ab = torch.cat((real_a, fake_b), 1)\n",
        "        pred_fake = D.forward(fake_ab.detach())\n",
        "        loss_d_fake = criterionMSE(pred_fake, fake_label)\n",
        "\n",
        "        # train with real\n",
        "        real_ab = torch.cat((real_a, real_b), 1)\n",
        "        pred_real = D.forward(real_ab)\n",
        "        loss_d_real = criterionMSE(pred_real, real_label)\n",
        "        \n",
        "        # Combined D loss\n",
        "        loss_d = (loss_d_fake + loss_d_real) * 0.5\n",
        "        \n",
        "        # Backprop + Optimize\n",
        "        D.zero_grad()\n",
        "        loss_d.backward()\n",
        "        d_optimizer.step()\n",
        "\n",
        "        #=============== Train the generator ===============#\n",
        "        # First, G(A) should fake the discriminator\n",
        "        fake_ab = torch.cat((real_a, fake_b), 1)\n",
        "        pred_fake = D.forward(fake_ab)\n",
        "        loss_g_gan = criterionMSE(pred_fake, real_label)\n",
        "\n",
        "        # Second, G(A) = B\n",
        "        loss_g_l1 = criterionL1(fake_b, real_b) * 10\n",
        "        \n",
        "        loss_g = loss_g_gan + loss_g_l1\n",
        "        \n",
        "        # Backprop + Optimize\n",
        "        G.zero_grad()\n",
        "        D.zero_grad()\n",
        "        loss_g.backward()\n",
        "        g_optimizer.step()\n",
        "        \n",
        "        if i % 200 == 0:\n",
        "            print('======================================================================================================')\n",
        "            print('Epoch [%d/%d], Step[%d/%d], d_loss: %.4f, g_loss: %.4f'\n",
        "                  % (epoch, 100, i, len(train_loader), loss_d.item(), loss_g.item()))\n",
        "            print('======================================================================================================')\n",
        "            show_images(denorm(real_a.squeeze()), denorm(real_b.squeeze()), denorm(fake_b.squeeze()))"
      ],
      "metadata": {
        "id": "enAGNswEhZr4"
      },
      "execution_count": null,
      "outputs": []
    },
    {
      "cell_type": "code",
      "source": [],
      "metadata": {
        "id": "FI51lby4wqJQ"
      },
      "execution_count": null,
      "outputs": []
    },
    {
      "cell_type": "code",
      "source": [
        "dataset_train = Preprocess_Image(train_paths, mode= 'train')\n",
        "dataloader_train = DataLoader(dataset_train, )"
      ],
      "metadata": {
        "id": "fzxqmK-9yEnd"
      },
      "execution_count": null,
      "outputs": []
    }
  ]
}
