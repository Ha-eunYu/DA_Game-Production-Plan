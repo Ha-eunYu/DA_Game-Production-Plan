{
  "nbformat": 4,
  "nbformat_minor": 0,
  "metadata": {
    "colab": {
      "name": "Untitled0.ipynb",
      "provenance": [],
      "authorship_tag": "ABX9TyMtCiJrZj7Q4c/RY8x11the"
    },
    "kernelspec": {
      "name": "python3",
      "display_name": "Python 3"
    },
    "language_info": {
      "name": "python"
    }
  },
  "cells": [
    {
      "cell_type": "markdown",
      "source": [
        "#**Section1 Project**\n",
        "\n",
        "다음 분기에 어떤 게임을 설계해야 할까\n",
        "\n",
        "##Data Description\n",
        "* Name : 게임의 이름입니다.\n",
        "* Platform : 게임이 지원되는 플랫폼의 이름입니다.\n",
        "* Year : 게임이 출시된 연도입니다.\n",
        "* Genre : 게임의 장르입니다.\n",
        "* Publisher : 게임을 제작한 회사입니다.\n",
        "* NA_Sales : 북미지역에서의 출고량입니다.\n",
        "* EU_Sales : 유럽지역에서의 출고량입니다.\n",
        "* JP_Sales : 일본지역에서의 출고량입니다.\n",
        "* Other_Sales : 기타지역에서의 출고량입니다.\n",
        "\n",
        "##Q\n",
        "* 지역에 따라서 선호하는 게임 장르가 다를까\n",
        "* 연도별 게임의 트렌드가 있을까 \n",
        "* 출고량이 높은 게임에 대한 분석 및 시각화 프로세스"
      ],
      "metadata": {
        "id": "lVxcTq3AHyJl"
      }
    },
    {
      "cell_type": "code",
      "execution_count": null,
      "metadata": {
        "id": "TbWrFucxHg0N"
      },
      "outputs": [],
      "source": [
        "import matplotlib.pyplot as plt\n",
        "import numpy as np"
      ]
    },
    {
      "cell_type": "code",
      "source": [
        ""
      ],
      "metadata": {
        "id": "ehspxMfeIrYD"
      },
      "execution_count": null,
      "outputs": []
    }
  ]
}