{
  "nbformat": 4,
  "nbformat_minor": 0,
  "metadata": {
    "colab": {
      "name": "Untitled1.ipynb",
      "provenance": [],
      "authorship_tag": "ABX9TyOe5TdHFJSXeHQS0xMguif/",
      "include_colab_link": true
    },
    "kernelspec": {
      "name": "python3",
      "display_name": "Python 3"
    },
    "language_info": {
      "name": "python"
    }
  },
  "cells": [
    {
      "cell_type": "markdown",
      "metadata": {
        "id": "view-in-github",
        "colab_type": "text"
      },
      "source": [
        "<a href=\"https://colab.research.google.com/github/Ha-eunYu/Section_Project/blob/main/Section2/Untitled1.ipynb\" target=\"_parent\"><img src=\"https://colab.research.google.com/assets/colab-badge.svg\" alt=\"Open In Colab\"/></a>"
      ]
    },
    {
      "cell_type": "code",
      "execution_count": 1,
      "metadata": {
        "colab": {
          "base_uri": "https://localhost:8080/"
        },
        "id": "MD1Q6jiZdw57",
        "outputId": "3249ad6e-6fe1-42c6-8a86-ca51859a16e1"
      },
      "outputs": [
        {
          "output_type": "stream",
          "name": "stdout",
          "text": [
            "b'<OpenAPI_ServiceResponse>\\n\\t<cmmMsgHeader>\\n\\t\\t<errMsg>SERVICE ERROR</errMsg>\\n\\t\\t<returnAuthMsg>SERVICE_KEY_IS_NOT_REGISTERED_ERROR</returnAuthMsg>\\n\\t\\t<returnReasonCode>30</returnReasonCode>\\n\\t</cmmMsgHeader>\\n</OpenAPI_ServiceResponse>'\n"
          ]
        }
      ],
      "source": [
        "import requests\n",
        "\n",
        "url = 'http://apis.data.go.kr/1480523/WaterQualityService/getSgisDrinkWaterList'\n",
        "params ={'serviceKey' : '서비스키', 'pageNo' : '1', 'numOfRows' : '10', 'resultType' : 'XML', 'yyyy' : '2012,2013', 'sido' : '강원', 'period' : '2/4', 'sgg' : '강릉', 'legacyCodeNo' : 'PUB_2337,PUB_2340', 'spotNm' : '태장봉샘터' }\n",
        "\n",
        "response = requests.get(url, params=params)\n",
        "print(response.content)"
      ]
    },
    {
      "cell_type": "code",
      "source": [
        "import pandas as pd\n",
        "import numpy as np\n",
        "from sklearn.model_selection import train_test_split\n",
        "from sklearn.datasets import load_breast_cancer \n",
        "\n",
        "cancer_dataset = load_breast_cancer()\n",
        "\n",
        "features = cancer_dataset.data\n",
        "target = cancer_dataset.target\n",
        "df = pd.DataFrame(data=features, columns=cancer_dataset.feature_names)\n",
        "df['target'] = target\n",
        "\n",
        "X_train, X_test, y_train, y_test = train_test_split(features, target, test_size=0.2, random_state=2)\n",
        "print(X_train.shape, X_test.shape)"
      ],
      "metadata": {
        "colab": {
          "base_uri": "https://localhost:8080/"
        },
        "id": "ajrzF0kOdxv0",
        "outputId": "9d2c92f0-05df-40b9-940e-6406a4afa53b"
      },
      "execution_count": 2,
      "outputs": [
        {
          "output_type": "stream",
          "name": "stdout",
          "text": [
            "(455, 30) (114, 30)\n"
          ]
        }
      ]
    },
    {
      "cell_type": "code",
      "source": [
        "import sys\n",
        "import warnings\n",
        "\n",
        "if \"google.colab\" in sys.modules:\n",
        "    ## Colab에서 실행하는 경우 필요한 라이브러리를 미리 설치합니다.\n",
        "    !pip install category_encoders==2.*\n",
        "    !pip install pandas-profiling==2.*\n",
        "\n",
        "warnings.filterwarnings(\"ignore\")"
      ],
      "metadata": {
        "id": "TeqzQ6UWpjAd"
      },
      "execution_count": null,
      "outputs": []
    },
    {
      "cell_type": "code",
      "source": [
        "from category_encoders import OrdinalEncoder\n",
        "from sklearn.impute import SimpleImputer\n",
        "from sklearn.ensemble import RandomForestClassifier\n",
        "from sklearn.model_selection import train_test_split\n",
        "from sklearn.pipeline import make_pipeline\n",
        "from sklearn.metrics import classification_report"
      ],
      "metadata": {
        "id": "R-lBzsv8pNoc"
      },
      "execution_count": null,
      "outputs": []
    },
    {
      "cell_type": "code",
      "source": [
        "from xgboost import XGBClassifier\n",
        "\n",
        "pipe = make_pipeline(\n",
        "    # OrdinalEncoder(),\n",
        "    SimpleImputer(strategy='accuracy'),\n",
        "    XGBClassifier(n_estimators=5\n",
        "                  , random_state=2\n",
        "                  , n_jobs=-1\n",
        "                  , max_depth=7\n",
        "                  , learning_rate=0.2\n",
        "                 )\n",
        ")\n",
        "\n",
        "pipe.fit(X_train, y_train);"
      ],
      "metadata": {
        "id": "XfiFAxH-pDmB"
      },
      "execution_count": null,
      "outputs": []
    },
    {
      "cell_type": "code",
      "source": [
        "!pip install eli5\n",
        "import eli5\n",
        "from eli5.sklearn import PermutationImportance"
      ],
      "metadata": {
        "id": "fsGpwgtfsGat"
      },
      "execution_count": null,
      "outputs": []
    },
    {
      "cell_type": "code",
      "source": [
        "scoring = 'accuracy'\n",
        "n_iter = 5\n",
        "random_state = 2\n",
        "eli5 PermutationImportance 사용"
      ],
      "metadata": {
        "id": "DDexVmLYqxkX"
      },
      "execution_count": null,
      "outputs": []
    },
    {
      "cell_type": "code",
      "source": [
        "import warnings\n",
        "warnings.simplefilter(action='ignore', category=FutureWarning)\n",
        "\n",
        "rf = pipe.named_steps['randomforestclassifier']\n",
        "importances = pd.Series(rf.feature_importances_, X_train.columns)\n",
        "\n",
        "%matplotlib inline\n",
        "import matplotlib.pyplot as plt\n",
        "\n",
        "n = 20\n",
        "plt.figure(figsize=(10,n/2))\n",
        "plt.title(f'Top {n} features')\n",
        "importances.sort_values()[-n:].plot.barh();\n",
        "\n",
        "# permuter 정의\n",
        "permuter = PermutationImportance(\n",
        "    pipe.named_steps['rf'], # model\n",
        "    scoring='accuracy', # metric\n",
        "    n_iter=5, # 다른 random seed를 사용하여 5번 반복\n",
        "    random_state=2\n",
        ")\n",
        "\n",
        "# permuter 계산은 preprocessing 된 X_val을 사용합니다.\n",
        "X_val_transformed = pipe.named_steps['preprocessing'].transform(X_test)\n",
        "\n",
        "# 실제로 fit 의미보다는 스코어를 다시 계산하는 작업입니다\n",
        "permuter.fit(X_val_transformed, y_test);"
      ],
      "metadata": {
        "colab": {
          "base_uri": "https://localhost:8080/",
          "height": 248
        },
        "id": "fWISOCoGrAky",
        "outputId": "ecaec2ba-9e0c-4757-937a-42bc14e4de88"
      },
      "execution_count": null,
      "outputs": [
        {
          "output_type": "error",
          "ename": "KeyError",
          "evalue": "ignored",
          "traceback": [
            "\u001b[0;31m---------------------------------------------------------------------------\u001b[0m",
            "\u001b[0;31mKeyError\u001b[0m                                  Traceback (most recent call last)",
            "\u001b[0;32m<ipython-input-17-227fe4eca19b>\u001b[0m in \u001b[0;36m<module>\u001b[0;34m()\u001b[0m\n\u001b[1;32m      6\u001b[0m \u001b[0;31m# permuter 정의\u001b[0m\u001b[0;34m\u001b[0m\u001b[0;34m\u001b[0m\u001b[0;34m\u001b[0m\u001b[0m\n\u001b[1;32m      7\u001b[0m permuter = PermutationImportance(\n\u001b[0;32m----> 8\u001b[0;31m     \u001b[0mpipe\u001b[0m\u001b[0;34m.\u001b[0m\u001b[0mnamed_steps\u001b[0m\u001b[0;34m[\u001b[0m\u001b[0;34m'rf'\u001b[0m\u001b[0;34m]\u001b[0m\u001b[0;34m,\u001b[0m \u001b[0;31m# model\u001b[0m\u001b[0;34m\u001b[0m\u001b[0;34m\u001b[0m\u001b[0m\n\u001b[0m\u001b[1;32m      9\u001b[0m     \u001b[0mscoring\u001b[0m\u001b[0;34m=\u001b[0m\u001b[0;34m'accuracy'\u001b[0m\u001b[0;34m,\u001b[0m \u001b[0;31m# metric\u001b[0m\u001b[0;34m\u001b[0m\u001b[0;34m\u001b[0m\u001b[0m\n\u001b[1;32m     10\u001b[0m     \u001b[0mn_iter\u001b[0m\u001b[0;34m=\u001b[0m\u001b[0;36m5\u001b[0m\u001b[0;34m,\u001b[0m \u001b[0;31m# 다른 random seed를 사용하여 5번 반복\u001b[0m\u001b[0;34m\u001b[0m\u001b[0;34m\u001b[0m\u001b[0m\n",
            "\u001b[0;31mKeyError\u001b[0m: 'rf'"
          ]
        }
      ]
    },
    {
      "cell_type": "code",
      "source": [
        "from sklearn.metrics import accuracy_score\n",
        "from sklearn.metrics import classification_report\n",
        "y_pred = pipe.predict(X_test)\n",
        "print('검증 정확도: ', accuracy_score(y_test, y_pred))\n",
        "\n",
        "print(classification_report(y_pred, y_test))"
      ],
      "metadata": {
        "colab": {
          "base_uri": "https://localhost:8080/"
        },
        "id": "kJ-7KR5ip0qd",
        "outputId": "0c803a58-1bc3-4523-d0e8-21566be71feb"
      },
      "execution_count": null,
      "outputs": [
        {
          "output_type": "stream",
          "name": "stdout",
          "text": [
            "검증 정확도:  0.956140350877193\n",
            "              precision    recall  f1-score   support\n",
            "\n",
            "           0       0.96      0.93      0.95        46\n",
            "           1       0.96      0.97      0.96        68\n",
            "\n",
            "    accuracy                           0.96       114\n",
            "   macro avg       0.96      0.95      0.95       114\n",
            "weighted avg       0.96      0.96      0.96       114\n",
            "\n"
          ]
        }
      ]
    },
    {
      "cell_type": "code",
      "source": [
        "X_test"
      ],
      "metadata": {
        "colab": {
          "base_uri": "https://localhost:8080/"
        },
        "id": "JjrxoCiJtijP",
        "outputId": "77b3a077-0d3c-4c07-e940-4dad9c5779fc"
      },
      "execution_count": null,
      "outputs": [
        {
          "output_type": "execute_result",
          "data": {
            "text/plain": [
              "array([[1.394e+01, 1.317e+01, 9.031e+01, ..., 1.015e-01, 2.160e-01,\n",
              "        7.253e-02],\n",
              "       [1.496e+01, 1.910e+01, 9.703e+01, ..., 1.489e-01, 2.962e-01,\n",
              "        8.472e-02],\n",
              "       [9.668e+00, 1.810e+01, 6.106e+01, ..., 2.500e-02, 3.057e-01,\n",
              "        7.875e-02],\n",
              "       ...,\n",
              "       [1.665e+01, 2.138e+01, 1.100e+02, ..., 2.095e-01, 3.613e-01,\n",
              "        9.564e-02],\n",
              "       [1.499e+01, 2.520e+01, 9.554e+01, ..., 2.899e-02, 1.565e-01,\n",
              "        5.504e-02],\n",
              "       [1.705e+01, 1.908e+01, 1.134e+02, ..., 2.543e-01, 3.109e-01,\n",
              "        9.061e-02]])"
            ]
          },
          "metadata": {},
          "execution_count": 21
        }
      ]
    },
    {
      "cell_type": "code",
      "source": [
        "feature_names = X_test.columns.tolist()\n",
        "pd.Series(permuter.feature_importances_, feature_names).sort_values()"
      ],
      "metadata": {
        "colab": {
          "base_uri": "https://localhost:8080/",
          "height": 193
        },
        "id": "VbeeZTdAqKA7",
        "outputId": "c0180ffa-95dc-4fa0-8f60-fa505e4800d8"
      },
      "execution_count": null,
      "outputs": [
        {
          "output_type": "error",
          "ename": "AttributeError",
          "evalue": "ignored",
          "traceback": [
            "\u001b[0;31m---------------------------------------------------------------------------\u001b[0m",
            "\u001b[0;31mAttributeError\u001b[0m                            Traceback (most recent call last)",
            "\u001b[0;32m<ipython-input-20-7ca8d924fc90>\u001b[0m in \u001b[0;36m<module>\u001b[0;34m()\u001b[0m\n\u001b[0;32m----> 1\u001b[0;31m \u001b[0mfeature_names\u001b[0m \u001b[0;34m=\u001b[0m \u001b[0mX_test\u001b[0m\u001b[0;34m.\u001b[0m\u001b[0mcolumns\u001b[0m\u001b[0;34m.\u001b[0m\u001b[0mtolist\u001b[0m\u001b[0;34m(\u001b[0m\u001b[0;34m)\u001b[0m\u001b[0;34m\u001b[0m\u001b[0;34m\u001b[0m\u001b[0m\n\u001b[0m\u001b[1;32m      2\u001b[0m \u001b[0mpd\u001b[0m\u001b[0;34m.\u001b[0m\u001b[0mSeries\u001b[0m\u001b[0;34m(\u001b[0m\u001b[0mpermuter\u001b[0m\u001b[0;34m.\u001b[0m\u001b[0mfeature_importances_\u001b[0m\u001b[0;34m,\u001b[0m \u001b[0mfeature_names\u001b[0m\u001b[0;34m)\u001b[0m\u001b[0;34m.\u001b[0m\u001b[0msort_values\u001b[0m\u001b[0;34m(\u001b[0m\u001b[0;34m)\u001b[0m\u001b[0;34m\u001b[0m\u001b[0;34m\u001b[0m\u001b[0m\n",
            "\u001b[0;31mAttributeError\u001b[0m: 'numpy.ndarray' object has no attribute 'columns'"
          ]
        }
      ]
    }
  ]
}